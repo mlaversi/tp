{
  "nbformat": 4,
  "nbformat_minor": 0,
  "metadata": {
    "accelerator": "GPU",
    "colab": {
      "name": "NLP_CNN_GRU_LSTM.ipynb",
      "provenance": [],
      "collapsed_sections": [],
      "toc_visible": true
    },
    "kernelspec": {
      "display_name": "Python 3",
      "name": "python3"
    },
    "widgets": {
      "application/vnd.jupyter.widget-state+json": {
        "b76a3a7b538741989ce9488183bb5725": {
          "model_module": "@jupyter-widgets/controls",
          "model_name": "HBoxModel",
          "state": {
            "_view_name": "HBoxView",
            "_dom_classes": [],
            "_model_name": "HBoxModel",
            "_view_module": "@jupyter-widgets/controls",
            "_model_module_version": "1.5.0",
            "_view_count": null,
            "_view_module_version": "1.5.0",
            "box_style": "",
            "layout": "IPY_MODEL_898392468a734aa0a6e7b1112bd0dd59",
            "_model_module": "@jupyter-widgets/controls",
            "children": [
              "IPY_MODEL_195a13c23b344eaaa1c5edd56b9a0d48",
              "IPY_MODEL_241ff6e29e32435d82244e6efa92b678"
            ]
          }
        },
        "898392468a734aa0a6e7b1112bd0dd59": {
          "model_module": "@jupyter-widgets/base",
          "model_name": "LayoutModel",
          "state": {
            "_view_name": "LayoutView",
            "grid_template_rows": null,
            "right": null,
            "justify_content": null,
            "_view_module": "@jupyter-widgets/base",
            "overflow": null,
            "_model_module_version": "1.2.0",
            "_view_count": null,
            "flex_flow": null,
            "width": null,
            "min_width": null,
            "border": null,
            "align_items": null,
            "bottom": null,
            "_model_module": "@jupyter-widgets/base",
            "top": null,
            "grid_column": null,
            "overflow_y": null,
            "overflow_x": null,
            "grid_auto_flow": null,
            "grid_area": null,
            "grid_template_columns": null,
            "flex": null,
            "_model_name": "LayoutModel",
            "justify_items": null,
            "grid_row": null,
            "max_height": null,
            "align_content": null,
            "visibility": null,
            "align_self": null,
            "height": null,
            "min_height": null,
            "padding": null,
            "grid_auto_rows": null,
            "grid_gap": null,
            "max_width": null,
            "order": null,
            "_view_module_version": "1.2.0",
            "grid_template_areas": null,
            "object_position": null,
            "object_fit": null,
            "grid_auto_columns": null,
            "margin": null,
            "display": null,
            "left": null
          }
        },
        "195a13c23b344eaaa1c5edd56b9a0d48": {
          "model_module": "@jupyter-widgets/controls",
          "model_name": "FloatProgressModel",
          "state": {
            "_view_name": "ProgressView",
            "style": "IPY_MODEL_a43a9f52c7214e2d87b97b2c835879a0",
            "_dom_classes": [],
            "description": "Dl Completed...: 100%",
            "_model_name": "FloatProgressModel",
            "bar_style": "success",
            "max": 1,
            "_view_module": "@jupyter-widgets/controls",
            "_model_module_version": "1.5.0",
            "value": 1,
            "_view_count": null,
            "_view_module_version": "1.5.0",
            "orientation": "horizontal",
            "min": 0,
            "description_tooltip": null,
            "_model_module": "@jupyter-widgets/controls",
            "layout": "IPY_MODEL_c0d59670d7ad46a9bda60912242b62d0"
          }
        },
        "241ff6e29e32435d82244e6efa92b678": {
          "model_module": "@jupyter-widgets/controls",
          "model_name": "HTMLModel",
          "state": {
            "_view_name": "HTMLView",
            "style": "IPY_MODEL_52632276f1d04160b7544b25aa634700",
            "_dom_classes": [],
            "description": "",
            "_model_name": "HTMLModel",
            "placeholder": "​",
            "_view_module": "@jupyter-widgets/controls",
            "_model_module_version": "1.5.0",
            "value": " 1/1 [00:01&lt;00:00,  2.00s/ url]",
            "_view_count": null,
            "_view_module_version": "1.5.0",
            "description_tooltip": null,
            "_model_module": "@jupyter-widgets/controls",
            "layout": "IPY_MODEL_b4c217848c2c41a285499130bfd2622a"
          }
        },
        "a43a9f52c7214e2d87b97b2c835879a0": {
          "model_module": "@jupyter-widgets/controls",
          "model_name": "ProgressStyleModel",
          "state": {
            "_view_name": "StyleView",
            "_model_name": "ProgressStyleModel",
            "description_width": "initial",
            "_view_module": "@jupyter-widgets/base",
            "_model_module_version": "1.5.0",
            "_view_count": null,
            "_view_module_version": "1.2.0",
            "bar_color": null,
            "_model_module": "@jupyter-widgets/controls"
          }
        },
        "c0d59670d7ad46a9bda60912242b62d0": {
          "model_module": "@jupyter-widgets/base",
          "model_name": "LayoutModel",
          "state": {
            "_view_name": "LayoutView",
            "grid_template_rows": null,
            "right": null,
            "justify_content": null,
            "_view_module": "@jupyter-widgets/base",
            "overflow": null,
            "_model_module_version": "1.2.0",
            "_view_count": null,
            "flex_flow": null,
            "width": null,
            "min_width": null,
            "border": null,
            "align_items": null,
            "bottom": null,
            "_model_module": "@jupyter-widgets/base",
            "top": null,
            "grid_column": null,
            "overflow_y": null,
            "overflow_x": null,
            "grid_auto_flow": null,
            "grid_area": null,
            "grid_template_columns": null,
            "flex": null,
            "_model_name": "LayoutModel",
            "justify_items": null,
            "grid_row": null,
            "max_height": null,
            "align_content": null,
            "visibility": null,
            "align_self": null,
            "height": null,
            "min_height": null,
            "padding": null,
            "grid_auto_rows": null,
            "grid_gap": null,
            "max_width": null,
            "order": null,
            "_view_module_version": "1.2.0",
            "grid_template_areas": null,
            "object_position": null,
            "object_fit": null,
            "grid_auto_columns": null,
            "margin": null,
            "display": null,
            "left": null
          }
        },
        "52632276f1d04160b7544b25aa634700": {
          "model_module": "@jupyter-widgets/controls",
          "model_name": "DescriptionStyleModel",
          "state": {
            "_view_name": "StyleView",
            "_model_name": "DescriptionStyleModel",
            "description_width": "",
            "_view_module": "@jupyter-widgets/base",
            "_model_module_version": "1.5.0",
            "_view_count": null,
            "_view_module_version": "1.2.0",
            "_model_module": "@jupyter-widgets/controls"
          }
        },
        "b4c217848c2c41a285499130bfd2622a": {
          "model_module": "@jupyter-widgets/base",
          "model_name": "LayoutModel",
          "state": {
            "_view_name": "LayoutView",
            "grid_template_rows": null,
            "right": null,
            "justify_content": null,
            "_view_module": "@jupyter-widgets/base",
            "overflow": null,
            "_model_module_version": "1.2.0",
            "_view_count": null,
            "flex_flow": null,
            "width": null,
            "min_width": null,
            "border": null,
            "align_items": null,
            "bottom": null,
            "_model_module": "@jupyter-widgets/base",
            "top": null,
            "grid_column": null,
            "overflow_y": null,
            "overflow_x": null,
            "grid_auto_flow": null,
            "grid_area": null,
            "grid_template_columns": null,
            "flex": null,
            "_model_name": "LayoutModel",
            "justify_items": null,
            "grid_row": null,
            "max_height": null,
            "align_content": null,
            "visibility": null,
            "align_self": null,
            "height": null,
            "min_height": null,
            "padding": null,
            "grid_auto_rows": null,
            "grid_gap": null,
            "max_width": null,
            "order": null,
            "_view_module_version": "1.2.0",
            "grid_template_areas": null,
            "object_position": null,
            "object_fit": null,
            "grid_auto_columns": null,
            "margin": null,
            "display": null,
            "left": null
          }
        },
        "234e774ce383473da3765992f74ce2c8": {
          "model_module": "@jupyter-widgets/controls",
          "model_name": "HBoxModel",
          "state": {
            "_view_name": "HBoxView",
            "_dom_classes": [],
            "_model_name": "HBoxModel",
            "_view_module": "@jupyter-widgets/controls",
            "_model_module_version": "1.5.0",
            "_view_count": null,
            "_view_module_version": "1.5.0",
            "box_style": "",
            "layout": "IPY_MODEL_3ab14e5450ae4e2195c76b013dff4a20",
            "_model_module": "@jupyter-widgets/controls",
            "children": [
              "IPY_MODEL_fdd3a5c7ff564bf98dc3392da9ba74bc",
              "IPY_MODEL_d2b92a3b0b454a9aa4590957537f83fb"
            ]
          }
        },
        "3ab14e5450ae4e2195c76b013dff4a20": {
          "model_module": "@jupyter-widgets/base",
          "model_name": "LayoutModel",
          "state": {
            "_view_name": "LayoutView",
            "grid_template_rows": null,
            "right": null,
            "justify_content": null,
            "_view_module": "@jupyter-widgets/base",
            "overflow": null,
            "_model_module_version": "1.2.0",
            "_view_count": null,
            "flex_flow": null,
            "width": null,
            "min_width": null,
            "border": null,
            "align_items": null,
            "bottom": null,
            "_model_module": "@jupyter-widgets/base",
            "top": null,
            "grid_column": null,
            "overflow_y": null,
            "overflow_x": null,
            "grid_auto_flow": null,
            "grid_area": null,
            "grid_template_columns": null,
            "flex": null,
            "_model_name": "LayoutModel",
            "justify_items": null,
            "grid_row": null,
            "max_height": null,
            "align_content": null,
            "visibility": null,
            "align_self": null,
            "height": null,
            "min_height": null,
            "padding": null,
            "grid_auto_rows": null,
            "grid_gap": null,
            "max_width": null,
            "order": null,
            "_view_module_version": "1.2.0",
            "grid_template_areas": null,
            "object_position": null,
            "object_fit": null,
            "grid_auto_columns": null,
            "margin": null,
            "display": null,
            "left": null
          }
        },
        "fdd3a5c7ff564bf98dc3392da9ba74bc": {
          "model_module": "@jupyter-widgets/controls",
          "model_name": "FloatProgressModel",
          "state": {
            "_view_name": "ProgressView",
            "style": "IPY_MODEL_a0d869f6e18f4ba7beb297ad95134c24",
            "_dom_classes": [],
            "description": "Dl Size...: 100%",
            "_model_name": "FloatProgressModel",
            "bar_style": "success",
            "max": 1,
            "_view_module": "@jupyter-widgets/controls",
            "_model_module_version": "1.5.0",
            "value": 1,
            "_view_count": null,
            "_view_module_version": "1.5.0",
            "orientation": "horizontal",
            "min": 0,
            "description_tooltip": null,
            "_model_module": "@jupyter-widgets/controls",
            "layout": "IPY_MODEL_ef3c3b97fb694974a0abe36ac8340af2"
          }
        },
        "d2b92a3b0b454a9aa4590957537f83fb": {
          "model_module": "@jupyter-widgets/controls",
          "model_name": "HTMLModel",
          "state": {
            "_view_name": "HTMLView",
            "style": "IPY_MODEL_6f5a766ae7f24d68ac6433d064bb1c58",
            "_dom_classes": [],
            "description": "",
            "_model_name": "HTMLModel",
            "placeholder": "​",
            "_view_module": "@jupyter-widgets/controls",
            "_model_module_version": "1.5.0",
            "value": " 80/80 [00:01&lt;00:00, 40.66 MiB/s]",
            "_view_count": null,
            "_view_module_version": "1.5.0",
            "description_tooltip": null,
            "_model_module": "@jupyter-widgets/controls",
            "layout": "IPY_MODEL_5cf6e40f5a8f4ee19206feae1d17124b"
          }
        },
        "a0d869f6e18f4ba7beb297ad95134c24": {
          "model_module": "@jupyter-widgets/controls",
          "model_name": "ProgressStyleModel",
          "state": {
            "_view_name": "StyleView",
            "_model_name": "ProgressStyleModel",
            "description_width": "initial",
            "_view_module": "@jupyter-widgets/base",
            "_model_module_version": "1.5.0",
            "_view_count": null,
            "_view_module_version": "1.2.0",
            "bar_color": null,
            "_model_module": "@jupyter-widgets/controls"
          }
        },
        "ef3c3b97fb694974a0abe36ac8340af2": {
          "model_module": "@jupyter-widgets/base",
          "model_name": "LayoutModel",
          "state": {
            "_view_name": "LayoutView",
            "grid_template_rows": null,
            "right": null,
            "justify_content": null,
            "_view_module": "@jupyter-widgets/base",
            "overflow": null,
            "_model_module_version": "1.2.0",
            "_view_count": null,
            "flex_flow": null,
            "width": null,
            "min_width": null,
            "border": null,
            "align_items": null,
            "bottom": null,
            "_model_module": "@jupyter-widgets/base",
            "top": null,
            "grid_column": null,
            "overflow_y": null,
            "overflow_x": null,
            "grid_auto_flow": null,
            "grid_area": null,
            "grid_template_columns": null,
            "flex": null,
            "_model_name": "LayoutModel",
            "justify_items": null,
            "grid_row": null,
            "max_height": null,
            "align_content": null,
            "visibility": null,
            "align_self": null,
            "height": null,
            "min_height": null,
            "padding": null,
            "grid_auto_rows": null,
            "grid_gap": null,
            "max_width": null,
            "order": null,
            "_view_module_version": "1.2.0",
            "grid_template_areas": null,
            "object_position": null,
            "object_fit": null,
            "grid_auto_columns": null,
            "margin": null,
            "display": null,
            "left": null
          }
        },
        "6f5a766ae7f24d68ac6433d064bb1c58": {
          "model_module": "@jupyter-widgets/controls",
          "model_name": "DescriptionStyleModel",
          "state": {
            "_view_name": "StyleView",
            "_model_name": "DescriptionStyleModel",
            "description_width": "",
            "_view_module": "@jupyter-widgets/base",
            "_model_module_version": "1.5.0",
            "_view_count": null,
            "_view_module_version": "1.2.0",
            "_model_module": "@jupyter-widgets/controls"
          }
        },
        "5cf6e40f5a8f4ee19206feae1d17124b": {
          "model_module": "@jupyter-widgets/base",
          "model_name": "LayoutModel",
          "state": {
            "_view_name": "LayoutView",
            "grid_template_rows": null,
            "right": null,
            "justify_content": null,
            "_view_module": "@jupyter-widgets/base",
            "overflow": null,
            "_model_module_version": "1.2.0",
            "_view_count": null,
            "flex_flow": null,
            "width": null,
            "min_width": null,
            "border": null,
            "align_items": null,
            "bottom": null,
            "_model_module": "@jupyter-widgets/base",
            "top": null,
            "grid_column": null,
            "overflow_y": null,
            "overflow_x": null,
            "grid_auto_flow": null,
            "grid_area": null,
            "grid_template_columns": null,
            "flex": null,
            "_model_name": "LayoutModel",
            "justify_items": null,
            "grid_row": null,
            "max_height": null,
            "align_content": null,
            "visibility": null,
            "align_self": null,
            "height": null,
            "min_height": null,
            "padding": null,
            "grid_auto_rows": null,
            "grid_gap": null,
            "max_width": null,
            "order": null,
            "_view_module_version": "1.2.0",
            "grid_template_areas": null,
            "object_position": null,
            "object_fit": null,
            "grid_auto_columns": null,
            "margin": null,
            "display": null,
            "left": null
          }
        },
        "12bbb08fa0164cc3a7755b59e599e4a5": {
          "model_module": "@jupyter-widgets/controls",
          "model_name": "HBoxModel",
          "state": {
            "_view_name": "HBoxView",
            "_dom_classes": [],
            "_model_name": "HBoxModel",
            "_view_module": "@jupyter-widgets/controls",
            "_model_module_version": "1.5.0",
            "_view_count": null,
            "_view_module_version": "1.5.0",
            "box_style": "",
            "layout": "IPY_MODEL_c555155ffbfb45cf8dad148773c8270c",
            "_model_module": "@jupyter-widgets/controls",
            "children": [
              "IPY_MODEL_24ac912252c0465b96e4537ee01d564a",
              "IPY_MODEL_f393f233c5374fbeaa9851ef916763c2"
            ]
          }
        },
        "c555155ffbfb45cf8dad148773c8270c": {
          "model_module": "@jupyter-widgets/base",
          "model_name": "LayoutModel",
          "state": {
            "_view_name": "LayoutView",
            "grid_template_rows": null,
            "right": null,
            "justify_content": null,
            "_view_module": "@jupyter-widgets/base",
            "overflow": null,
            "_model_module_version": "1.2.0",
            "_view_count": null,
            "flex_flow": null,
            "width": null,
            "min_width": null,
            "border": null,
            "align_items": null,
            "bottom": null,
            "_model_module": "@jupyter-widgets/base",
            "top": null,
            "grid_column": null,
            "overflow_y": null,
            "overflow_x": null,
            "grid_auto_flow": null,
            "grid_area": null,
            "grid_template_columns": null,
            "flex": null,
            "_model_name": "LayoutModel",
            "justify_items": null,
            "grid_row": null,
            "max_height": null,
            "align_content": null,
            "visibility": null,
            "align_self": null,
            "height": null,
            "min_height": null,
            "padding": null,
            "grid_auto_rows": null,
            "grid_gap": null,
            "max_width": null,
            "order": null,
            "_view_module_version": "1.2.0",
            "grid_template_areas": null,
            "object_position": null,
            "object_fit": null,
            "grid_auto_columns": null,
            "margin": null,
            "display": null,
            "left": null
          }
        },
        "24ac912252c0465b96e4537ee01d564a": {
          "model_module": "@jupyter-widgets/controls",
          "model_name": "FloatProgressModel",
          "state": {
            "_view_name": "ProgressView",
            "style": "IPY_MODEL_37d4d00288804cfb831d05ddc73e05a9",
            "_dom_classes": [],
            "description": "",
            "_model_name": "FloatProgressModel",
            "bar_style": "info",
            "max": 1,
            "_view_module": "@jupyter-widgets/controls",
            "_model_module_version": "1.5.0",
            "value": 1,
            "_view_count": null,
            "_view_module_version": "1.5.0",
            "orientation": "horizontal",
            "min": 0,
            "description_tooltip": null,
            "_model_module": "@jupyter-widgets/controls",
            "layout": "IPY_MODEL_942c97feee2747199cf7f8bbeb5d457a"
          }
        },
        "f393f233c5374fbeaa9851ef916763c2": {
          "model_module": "@jupyter-widgets/controls",
          "model_name": "HTMLModel",
          "state": {
            "_view_name": "HTMLView",
            "style": "IPY_MODEL_659d0e7f294b42bea0e943c90544f2c4",
            "_dom_classes": [],
            "description": "",
            "_model_name": "HTMLModel",
            "placeholder": "​",
            "_view_module": "@jupyter-widgets/controls",
            "_model_module_version": "1.5.0",
            "value": " 25000/0 [00:13&lt;00:00, 3401.69 examples/s]",
            "_view_count": null,
            "_view_module_version": "1.5.0",
            "description_tooltip": null,
            "_model_module": "@jupyter-widgets/controls",
            "layout": "IPY_MODEL_44502bce58084e95b8225e7f51c978ed"
          }
        },
        "37d4d00288804cfb831d05ddc73e05a9": {
          "model_module": "@jupyter-widgets/controls",
          "model_name": "ProgressStyleModel",
          "state": {
            "_view_name": "StyleView",
            "_model_name": "ProgressStyleModel",
            "description_width": "initial",
            "_view_module": "@jupyter-widgets/base",
            "_model_module_version": "1.5.0",
            "_view_count": null,
            "_view_module_version": "1.2.0",
            "bar_color": null,
            "_model_module": "@jupyter-widgets/controls"
          }
        },
        "942c97feee2747199cf7f8bbeb5d457a": {
          "model_module": "@jupyter-widgets/base",
          "model_name": "LayoutModel",
          "state": {
            "_view_name": "LayoutView",
            "grid_template_rows": null,
            "right": null,
            "justify_content": null,
            "_view_module": "@jupyter-widgets/base",
            "overflow": null,
            "_model_module_version": "1.2.0",
            "_view_count": null,
            "flex_flow": null,
            "width": null,
            "min_width": null,
            "border": null,
            "align_items": null,
            "bottom": null,
            "_model_module": "@jupyter-widgets/base",
            "top": null,
            "grid_column": null,
            "overflow_y": null,
            "overflow_x": null,
            "grid_auto_flow": null,
            "grid_area": null,
            "grid_template_columns": null,
            "flex": null,
            "_model_name": "LayoutModel",
            "justify_items": null,
            "grid_row": null,
            "max_height": null,
            "align_content": null,
            "visibility": null,
            "align_self": null,
            "height": null,
            "min_height": null,
            "padding": null,
            "grid_auto_rows": null,
            "grid_gap": null,
            "max_width": null,
            "order": null,
            "_view_module_version": "1.2.0",
            "grid_template_areas": null,
            "object_position": null,
            "object_fit": null,
            "grid_auto_columns": null,
            "margin": null,
            "display": null,
            "left": null
          }
        },
        "659d0e7f294b42bea0e943c90544f2c4": {
          "model_module": "@jupyter-widgets/controls",
          "model_name": "DescriptionStyleModel",
          "state": {
            "_view_name": "StyleView",
            "_model_name": "DescriptionStyleModel",
            "description_width": "",
            "_view_module": "@jupyter-widgets/base",
            "_model_module_version": "1.5.0",
            "_view_count": null,
            "_view_module_version": "1.2.0",
            "_model_module": "@jupyter-widgets/controls"
          }
        },
        "44502bce58084e95b8225e7f51c978ed": {
          "model_module": "@jupyter-widgets/base",
          "model_name": "LayoutModel",
          "state": {
            "_view_name": "LayoutView",
            "grid_template_rows": null,
            "right": null,
            "justify_content": null,
            "_view_module": "@jupyter-widgets/base",
            "overflow": null,
            "_model_module_version": "1.2.0",
            "_view_count": null,
            "flex_flow": null,
            "width": null,
            "min_width": null,
            "border": null,
            "align_items": null,
            "bottom": null,
            "_model_module": "@jupyter-widgets/base",
            "top": null,
            "grid_column": null,
            "overflow_y": null,
            "overflow_x": null,
            "grid_auto_flow": null,
            "grid_area": null,
            "grid_template_columns": null,
            "flex": null,
            "_model_name": "LayoutModel",
            "justify_items": null,
            "grid_row": null,
            "max_height": null,
            "align_content": null,
            "visibility": null,
            "align_self": null,
            "height": null,
            "min_height": null,
            "padding": null,
            "grid_auto_rows": null,
            "grid_gap": null,
            "max_width": null,
            "order": null,
            "_view_module_version": "1.2.0",
            "grid_template_areas": null,
            "object_position": null,
            "object_fit": null,
            "grid_auto_columns": null,
            "margin": null,
            "display": null,
            "left": null
          }
        },
        "d9c90ddf4ea84d5d9ca9011cbff97ff0": {
          "model_module": "@jupyter-widgets/controls",
          "model_name": "HBoxModel",
          "state": {
            "_view_name": "HBoxView",
            "_dom_classes": [],
            "_model_name": "HBoxModel",
            "_view_module": "@jupyter-widgets/controls",
            "_model_module_version": "1.5.0",
            "_view_count": null,
            "_view_module_version": "1.5.0",
            "box_style": "",
            "layout": "IPY_MODEL_ed97b7e4e6de4bd09b24a8816ba50be1",
            "_model_module": "@jupyter-widgets/controls",
            "children": [
              "IPY_MODEL_0b0cbb69ff584dc99a6914295b1fdd30",
              "IPY_MODEL_4aae956483ae4e81899a8b82a550e0d6"
            ]
          }
        },
        "ed97b7e4e6de4bd09b24a8816ba50be1": {
          "model_module": "@jupyter-widgets/base",
          "model_name": "LayoutModel",
          "state": {
            "_view_name": "LayoutView",
            "grid_template_rows": null,
            "right": null,
            "justify_content": null,
            "_view_module": "@jupyter-widgets/base",
            "overflow": null,
            "_model_module_version": "1.2.0",
            "_view_count": null,
            "flex_flow": null,
            "width": null,
            "min_width": null,
            "border": null,
            "align_items": null,
            "bottom": null,
            "_model_module": "@jupyter-widgets/base",
            "top": null,
            "grid_column": null,
            "overflow_y": null,
            "overflow_x": null,
            "grid_auto_flow": null,
            "grid_area": null,
            "grid_template_columns": null,
            "flex": null,
            "_model_name": "LayoutModel",
            "justify_items": null,
            "grid_row": null,
            "max_height": null,
            "align_content": null,
            "visibility": null,
            "align_self": null,
            "height": null,
            "min_height": null,
            "padding": null,
            "grid_auto_rows": null,
            "grid_gap": null,
            "max_width": null,
            "order": null,
            "_view_module_version": "1.2.0",
            "grid_template_areas": null,
            "object_position": null,
            "object_fit": null,
            "grid_auto_columns": null,
            "margin": null,
            "display": null,
            "left": null
          }
        },
        "0b0cbb69ff584dc99a6914295b1fdd30": {
          "model_module": "@jupyter-widgets/controls",
          "model_name": "FloatProgressModel",
          "state": {
            "_view_name": "ProgressView",
            "style": "IPY_MODEL_0b34c69ad8db4952b8feaebc505e50d7",
            "_dom_classes": [],
            "description": " 46%",
            "_model_name": "FloatProgressModel",
            "bar_style": "danger",
            "max": 25000,
            "_view_module": "@jupyter-widgets/controls",
            "_model_module_version": "1.5.0",
            "value": 11486,
            "_view_count": null,
            "_view_module_version": "1.5.0",
            "orientation": "horizontal",
            "min": 0,
            "description_tooltip": null,
            "_model_module": "@jupyter-widgets/controls",
            "layout": "IPY_MODEL_b7dc7d5e30a741a480c9c119263fd18d"
          }
        },
        "4aae956483ae4e81899a8b82a550e0d6": {
          "model_module": "@jupyter-widgets/controls",
          "model_name": "HTMLModel",
          "state": {
            "_view_name": "HTMLView",
            "style": "IPY_MODEL_a40d027157134e4eadc2afefb86b8b2d",
            "_dom_classes": [],
            "description": "",
            "_model_name": "HTMLModel",
            "placeholder": "​",
            "_view_module": "@jupyter-widgets/controls",
            "_model_module_version": "1.5.0",
            "value": " 11486/25000 [00:00&lt;00:00, 114856.82 examples/s]",
            "_view_count": null,
            "_view_module_version": "1.5.0",
            "description_tooltip": null,
            "_model_module": "@jupyter-widgets/controls",
            "layout": "IPY_MODEL_526fa3f2316442c19c076321d3b82bb2"
          }
        },
        "0b34c69ad8db4952b8feaebc505e50d7": {
          "model_module": "@jupyter-widgets/controls",
          "model_name": "ProgressStyleModel",
          "state": {
            "_view_name": "StyleView",
            "_model_name": "ProgressStyleModel",
            "description_width": "initial",
            "_view_module": "@jupyter-widgets/base",
            "_model_module_version": "1.5.0",
            "_view_count": null,
            "_view_module_version": "1.2.0",
            "bar_color": null,
            "_model_module": "@jupyter-widgets/controls"
          }
        },
        "b7dc7d5e30a741a480c9c119263fd18d": {
          "model_module": "@jupyter-widgets/base",
          "model_name": "LayoutModel",
          "state": {
            "_view_name": "LayoutView",
            "grid_template_rows": null,
            "right": null,
            "justify_content": null,
            "_view_module": "@jupyter-widgets/base",
            "overflow": null,
            "_model_module_version": "1.2.0",
            "_view_count": null,
            "flex_flow": null,
            "width": null,
            "min_width": null,
            "border": null,
            "align_items": null,
            "bottom": null,
            "_model_module": "@jupyter-widgets/base",
            "top": null,
            "grid_column": null,
            "overflow_y": null,
            "overflow_x": null,
            "grid_auto_flow": null,
            "grid_area": null,
            "grid_template_columns": null,
            "flex": null,
            "_model_name": "LayoutModel",
            "justify_items": null,
            "grid_row": null,
            "max_height": null,
            "align_content": null,
            "visibility": null,
            "align_self": null,
            "height": null,
            "min_height": null,
            "padding": null,
            "grid_auto_rows": null,
            "grid_gap": null,
            "max_width": null,
            "order": null,
            "_view_module_version": "1.2.0",
            "grid_template_areas": null,
            "object_position": null,
            "object_fit": null,
            "grid_auto_columns": null,
            "margin": null,
            "display": null,
            "left": null
          }
        },
        "a40d027157134e4eadc2afefb86b8b2d": {
          "model_module": "@jupyter-widgets/controls",
          "model_name": "DescriptionStyleModel",
          "state": {
            "_view_name": "StyleView",
            "_model_name": "DescriptionStyleModel",
            "description_width": "",
            "_view_module": "@jupyter-widgets/base",
            "_model_module_version": "1.5.0",
            "_view_count": null,
            "_view_module_version": "1.2.0",
            "_model_module": "@jupyter-widgets/controls"
          }
        },
        "526fa3f2316442c19c076321d3b82bb2": {
          "model_module": "@jupyter-widgets/base",
          "model_name": "LayoutModel",
          "state": {
            "_view_name": "LayoutView",
            "grid_template_rows": null,
            "right": null,
            "justify_content": null,
            "_view_module": "@jupyter-widgets/base",
            "overflow": null,
            "_model_module_version": "1.2.0",
            "_view_count": null,
            "flex_flow": null,
            "width": null,
            "min_width": null,
            "border": null,
            "align_items": null,
            "bottom": null,
            "_model_module": "@jupyter-widgets/base",
            "top": null,
            "grid_column": null,
            "overflow_y": null,
            "overflow_x": null,
            "grid_auto_flow": null,
            "grid_area": null,
            "grid_template_columns": null,
            "flex": null,
            "_model_name": "LayoutModel",
            "justify_items": null,
            "grid_row": null,
            "max_height": null,
            "align_content": null,
            "visibility": null,
            "align_self": null,
            "height": null,
            "min_height": null,
            "padding": null,
            "grid_auto_rows": null,
            "grid_gap": null,
            "max_width": null,
            "order": null,
            "_view_module_version": "1.2.0",
            "grid_template_areas": null,
            "object_position": null,
            "object_fit": null,
            "grid_auto_columns": null,
            "margin": null,
            "display": null,
            "left": null
          }
        },
        "61d8c785ec3440908475412aeb6e7c12": {
          "model_module": "@jupyter-widgets/controls",
          "model_name": "HBoxModel",
          "state": {
            "_view_name": "HBoxView",
            "_dom_classes": [],
            "_model_name": "HBoxModel",
            "_view_module": "@jupyter-widgets/controls",
            "_model_module_version": "1.5.0",
            "_view_count": null,
            "_view_module_version": "1.5.0",
            "box_style": "",
            "layout": "IPY_MODEL_9bfdbb44f2e44444a3a4c0ecd48501a1",
            "_model_module": "@jupyter-widgets/controls",
            "children": [
              "IPY_MODEL_f8750d92b16540b08f59d764d58769d3",
              "IPY_MODEL_7820a71a3135469aa5baab69b5e0cfff"
            ]
          }
        },
        "9bfdbb44f2e44444a3a4c0ecd48501a1": {
          "model_module": "@jupyter-widgets/base",
          "model_name": "LayoutModel",
          "state": {
            "_view_name": "LayoutView",
            "grid_template_rows": null,
            "right": null,
            "justify_content": null,
            "_view_module": "@jupyter-widgets/base",
            "overflow": null,
            "_model_module_version": "1.2.0",
            "_view_count": null,
            "flex_flow": null,
            "width": null,
            "min_width": null,
            "border": null,
            "align_items": null,
            "bottom": null,
            "_model_module": "@jupyter-widgets/base",
            "top": null,
            "grid_column": null,
            "overflow_y": null,
            "overflow_x": null,
            "grid_auto_flow": null,
            "grid_area": null,
            "grid_template_columns": null,
            "flex": null,
            "_model_name": "LayoutModel",
            "justify_items": null,
            "grid_row": null,
            "max_height": null,
            "align_content": null,
            "visibility": null,
            "align_self": null,
            "height": null,
            "min_height": null,
            "padding": null,
            "grid_auto_rows": null,
            "grid_gap": null,
            "max_width": null,
            "order": null,
            "_view_module_version": "1.2.0",
            "grid_template_areas": null,
            "object_position": null,
            "object_fit": null,
            "grid_auto_columns": null,
            "margin": null,
            "display": null,
            "left": null
          }
        },
        "f8750d92b16540b08f59d764d58769d3": {
          "model_module": "@jupyter-widgets/controls",
          "model_name": "FloatProgressModel",
          "state": {
            "_view_name": "ProgressView",
            "style": "IPY_MODEL_3d8d4f970c0d4771b8941466305f7f09",
            "_dom_classes": [],
            "description": "",
            "_model_name": "FloatProgressModel",
            "bar_style": "info",
            "max": 1,
            "_view_module": "@jupyter-widgets/controls",
            "_model_module_version": "1.5.0",
            "value": 1,
            "_view_count": null,
            "_view_module_version": "1.5.0",
            "orientation": "horizontal",
            "min": 0,
            "description_tooltip": null,
            "_model_module": "@jupyter-widgets/controls",
            "layout": "IPY_MODEL_8dd4c687c15e40d0b8764e5726093bd8"
          }
        },
        "7820a71a3135469aa5baab69b5e0cfff": {
          "model_module": "@jupyter-widgets/controls",
          "model_name": "HTMLModel",
          "state": {
            "_view_name": "HTMLView",
            "style": "IPY_MODEL_f88e09f6bb044931ac2143ecb03b281d",
            "_dom_classes": [],
            "description": "",
            "_model_name": "HTMLModel",
            "placeholder": "​",
            "_view_module": "@jupyter-widgets/controls",
            "_model_module_version": "1.5.0",
            "value": " 25000/0 [00:13&lt;00:00, 3381.33 examples/s]",
            "_view_count": null,
            "_view_module_version": "1.5.0",
            "description_tooltip": null,
            "_model_module": "@jupyter-widgets/controls",
            "layout": "IPY_MODEL_a5ddf35522f14d208e7732b25ef34193"
          }
        },
        "3d8d4f970c0d4771b8941466305f7f09": {
          "model_module": "@jupyter-widgets/controls",
          "model_name": "ProgressStyleModel",
          "state": {
            "_view_name": "StyleView",
            "_model_name": "ProgressStyleModel",
            "description_width": "initial",
            "_view_module": "@jupyter-widgets/base",
            "_model_module_version": "1.5.0",
            "_view_count": null,
            "_view_module_version": "1.2.0",
            "bar_color": null,
            "_model_module": "@jupyter-widgets/controls"
          }
        },
        "8dd4c687c15e40d0b8764e5726093bd8": {
          "model_module": "@jupyter-widgets/base",
          "model_name": "LayoutModel",
          "state": {
            "_view_name": "LayoutView",
            "grid_template_rows": null,
            "right": null,
            "justify_content": null,
            "_view_module": "@jupyter-widgets/base",
            "overflow": null,
            "_model_module_version": "1.2.0",
            "_view_count": null,
            "flex_flow": null,
            "width": null,
            "min_width": null,
            "border": null,
            "align_items": null,
            "bottom": null,
            "_model_module": "@jupyter-widgets/base",
            "top": null,
            "grid_column": null,
            "overflow_y": null,
            "overflow_x": null,
            "grid_auto_flow": null,
            "grid_area": null,
            "grid_template_columns": null,
            "flex": null,
            "_model_name": "LayoutModel",
            "justify_items": null,
            "grid_row": null,
            "max_height": null,
            "align_content": null,
            "visibility": null,
            "align_self": null,
            "height": null,
            "min_height": null,
            "padding": null,
            "grid_auto_rows": null,
            "grid_gap": null,
            "max_width": null,
            "order": null,
            "_view_module_version": "1.2.0",
            "grid_template_areas": null,
            "object_position": null,
            "object_fit": null,
            "grid_auto_columns": null,
            "margin": null,
            "display": null,
            "left": null
          }
        },
        "f88e09f6bb044931ac2143ecb03b281d": {
          "model_module": "@jupyter-widgets/controls",
          "model_name": "DescriptionStyleModel",
          "state": {
            "_view_name": "StyleView",
            "_model_name": "DescriptionStyleModel",
            "description_width": "",
            "_view_module": "@jupyter-widgets/base",
            "_model_module_version": "1.5.0",
            "_view_count": null,
            "_view_module_version": "1.2.0",
            "_model_module": "@jupyter-widgets/controls"
          }
        },
        "a5ddf35522f14d208e7732b25ef34193": {
          "model_module": "@jupyter-widgets/base",
          "model_name": "LayoutModel",
          "state": {
            "_view_name": "LayoutView",
            "grid_template_rows": null,
            "right": null,
            "justify_content": null,
            "_view_module": "@jupyter-widgets/base",
            "overflow": null,
            "_model_module_version": "1.2.0",
            "_view_count": null,
            "flex_flow": null,
            "width": null,
            "min_width": null,
            "border": null,
            "align_items": null,
            "bottom": null,
            "_model_module": "@jupyter-widgets/base",
            "top": null,
            "grid_column": null,
            "overflow_y": null,
            "overflow_x": null,
            "grid_auto_flow": null,
            "grid_area": null,
            "grid_template_columns": null,
            "flex": null,
            "_model_name": "LayoutModel",
            "justify_items": null,
            "grid_row": null,
            "max_height": null,
            "align_content": null,
            "visibility": null,
            "align_self": null,
            "height": null,
            "min_height": null,
            "padding": null,
            "grid_auto_rows": null,
            "grid_gap": null,
            "max_width": null,
            "order": null,
            "_view_module_version": "1.2.0",
            "grid_template_areas": null,
            "object_position": null,
            "object_fit": null,
            "grid_auto_columns": null,
            "margin": null,
            "display": null,
            "left": null
          }
        },
        "33706c7296384034be5fc704ec0ec113": {
          "model_module": "@jupyter-widgets/controls",
          "model_name": "HBoxModel",
          "state": {
            "_view_name": "HBoxView",
            "_dom_classes": [],
            "_model_name": "HBoxModel",
            "_view_module": "@jupyter-widgets/controls",
            "_model_module_version": "1.5.0",
            "_view_count": null,
            "_view_module_version": "1.5.0",
            "box_style": "",
            "layout": "IPY_MODEL_419f971e594a403eaa6356e21db6a629",
            "_model_module": "@jupyter-widgets/controls",
            "children": [
              "IPY_MODEL_8dcc62b82c0242afa515bfdb2d111351",
              "IPY_MODEL_cfd49a176a0c4e9dbe5528ec8222d77e"
            ]
          }
        },
        "419f971e594a403eaa6356e21db6a629": {
          "model_module": "@jupyter-widgets/base",
          "model_name": "LayoutModel",
          "state": {
            "_view_name": "LayoutView",
            "grid_template_rows": null,
            "right": null,
            "justify_content": null,
            "_view_module": "@jupyter-widgets/base",
            "overflow": null,
            "_model_module_version": "1.2.0",
            "_view_count": null,
            "flex_flow": null,
            "width": null,
            "min_width": null,
            "border": null,
            "align_items": null,
            "bottom": null,
            "_model_module": "@jupyter-widgets/base",
            "top": null,
            "grid_column": null,
            "overflow_y": null,
            "overflow_x": null,
            "grid_auto_flow": null,
            "grid_area": null,
            "grid_template_columns": null,
            "flex": null,
            "_model_name": "LayoutModel",
            "justify_items": null,
            "grid_row": null,
            "max_height": null,
            "align_content": null,
            "visibility": null,
            "align_self": null,
            "height": null,
            "min_height": null,
            "padding": null,
            "grid_auto_rows": null,
            "grid_gap": null,
            "max_width": null,
            "order": null,
            "_view_module_version": "1.2.0",
            "grid_template_areas": null,
            "object_position": null,
            "object_fit": null,
            "grid_auto_columns": null,
            "margin": null,
            "display": null,
            "left": null
          }
        },
        "8dcc62b82c0242afa515bfdb2d111351": {
          "model_module": "@jupyter-widgets/controls",
          "model_name": "FloatProgressModel",
          "state": {
            "_view_name": "ProgressView",
            "style": "IPY_MODEL_117366e2ab21494a9918bb774540b50f",
            "_dom_classes": [],
            "description": " 43%",
            "_model_name": "FloatProgressModel",
            "bar_style": "danger",
            "max": 25000,
            "_view_module": "@jupyter-widgets/controls",
            "_model_module_version": "1.5.0",
            "value": 10847,
            "_view_count": null,
            "_view_module_version": "1.5.0",
            "orientation": "horizontal",
            "min": 0,
            "description_tooltip": null,
            "_model_module": "@jupyter-widgets/controls",
            "layout": "IPY_MODEL_31f8963dd1444db8b057b1656d20eec1"
          }
        },
        "cfd49a176a0c4e9dbe5528ec8222d77e": {
          "model_module": "@jupyter-widgets/controls",
          "model_name": "HTMLModel",
          "state": {
            "_view_name": "HTMLView",
            "style": "IPY_MODEL_53d15d75ee4e42bfba6c82aded66b255",
            "_dom_classes": [],
            "description": "",
            "_model_name": "HTMLModel",
            "placeholder": "​",
            "_view_module": "@jupyter-widgets/controls",
            "_model_module_version": "1.5.0",
            "value": " 10847/25000 [00:00&lt;00:00, 108469.33 examples/s]",
            "_view_count": null,
            "_view_module_version": "1.5.0",
            "description_tooltip": null,
            "_model_module": "@jupyter-widgets/controls",
            "layout": "IPY_MODEL_adfd8188eab24e45a7a78cbe7c7b69b6"
          }
        },
        "117366e2ab21494a9918bb774540b50f": {
          "model_module": "@jupyter-widgets/controls",
          "model_name": "ProgressStyleModel",
          "state": {
            "_view_name": "StyleView",
            "_model_name": "ProgressStyleModel",
            "description_width": "initial",
            "_view_module": "@jupyter-widgets/base",
            "_model_module_version": "1.5.0",
            "_view_count": null,
            "_view_module_version": "1.2.0",
            "bar_color": null,
            "_model_module": "@jupyter-widgets/controls"
          }
        },
        "31f8963dd1444db8b057b1656d20eec1": {
          "model_module": "@jupyter-widgets/base",
          "model_name": "LayoutModel",
          "state": {
            "_view_name": "LayoutView",
            "grid_template_rows": null,
            "right": null,
            "justify_content": null,
            "_view_module": "@jupyter-widgets/base",
            "overflow": null,
            "_model_module_version": "1.2.0",
            "_view_count": null,
            "flex_flow": null,
            "width": null,
            "min_width": null,
            "border": null,
            "align_items": null,
            "bottom": null,
            "_model_module": "@jupyter-widgets/base",
            "top": null,
            "grid_column": null,
            "overflow_y": null,
            "overflow_x": null,
            "grid_auto_flow": null,
            "grid_area": null,
            "grid_template_columns": null,
            "flex": null,
            "_model_name": "LayoutModel",
            "justify_items": null,
            "grid_row": null,
            "max_height": null,
            "align_content": null,
            "visibility": null,
            "align_self": null,
            "height": null,
            "min_height": null,
            "padding": null,
            "grid_auto_rows": null,
            "grid_gap": null,
            "max_width": null,
            "order": null,
            "_view_module_version": "1.2.0",
            "grid_template_areas": null,
            "object_position": null,
            "object_fit": null,
            "grid_auto_columns": null,
            "margin": null,
            "display": null,
            "left": null
          }
        },
        "53d15d75ee4e42bfba6c82aded66b255": {
          "model_module": "@jupyter-widgets/controls",
          "model_name": "DescriptionStyleModel",
          "state": {
            "_view_name": "StyleView",
            "_model_name": "DescriptionStyleModel",
            "description_width": "",
            "_view_module": "@jupyter-widgets/base",
            "_model_module_version": "1.5.0",
            "_view_count": null,
            "_view_module_version": "1.2.0",
            "_model_module": "@jupyter-widgets/controls"
          }
        },
        "adfd8188eab24e45a7a78cbe7c7b69b6": {
          "model_module": "@jupyter-widgets/base",
          "model_name": "LayoutModel",
          "state": {
            "_view_name": "LayoutView",
            "grid_template_rows": null,
            "right": null,
            "justify_content": null,
            "_view_module": "@jupyter-widgets/base",
            "overflow": null,
            "_model_module_version": "1.2.0",
            "_view_count": null,
            "flex_flow": null,
            "width": null,
            "min_width": null,
            "border": null,
            "align_items": null,
            "bottom": null,
            "_model_module": "@jupyter-widgets/base",
            "top": null,
            "grid_column": null,
            "overflow_y": null,
            "overflow_x": null,
            "grid_auto_flow": null,
            "grid_area": null,
            "grid_template_columns": null,
            "flex": null,
            "_model_name": "LayoutModel",
            "justify_items": null,
            "grid_row": null,
            "max_height": null,
            "align_content": null,
            "visibility": null,
            "align_self": null,
            "height": null,
            "min_height": null,
            "padding": null,
            "grid_auto_rows": null,
            "grid_gap": null,
            "max_width": null,
            "order": null,
            "_view_module_version": "1.2.0",
            "grid_template_areas": null,
            "object_position": null,
            "object_fit": null,
            "grid_auto_columns": null,
            "margin": null,
            "display": null,
            "left": null
          }
        },
        "00a36e76a4604db7bced553d9d08a1de": {
          "model_module": "@jupyter-widgets/controls",
          "model_name": "HBoxModel",
          "state": {
            "_view_name": "HBoxView",
            "_dom_classes": [],
            "_model_name": "HBoxModel",
            "_view_module": "@jupyter-widgets/controls",
            "_model_module_version": "1.5.0",
            "_view_count": null,
            "_view_module_version": "1.5.0",
            "box_style": "",
            "layout": "IPY_MODEL_65a5cfcc5c894fb68c915764636dfcca",
            "_model_module": "@jupyter-widgets/controls",
            "children": [
              "IPY_MODEL_6b38325e30e244ce8fb9b581c716f5d4",
              "IPY_MODEL_0ab5bcc826b74615beab51c53b4e71fa"
            ]
          }
        },
        "65a5cfcc5c894fb68c915764636dfcca": {
          "model_module": "@jupyter-widgets/base",
          "model_name": "LayoutModel",
          "state": {
            "_view_name": "LayoutView",
            "grid_template_rows": null,
            "right": null,
            "justify_content": null,
            "_view_module": "@jupyter-widgets/base",
            "overflow": null,
            "_model_module_version": "1.2.0",
            "_view_count": null,
            "flex_flow": null,
            "width": null,
            "min_width": null,
            "border": null,
            "align_items": null,
            "bottom": null,
            "_model_module": "@jupyter-widgets/base",
            "top": null,
            "grid_column": null,
            "overflow_y": null,
            "overflow_x": null,
            "grid_auto_flow": null,
            "grid_area": null,
            "grid_template_columns": null,
            "flex": null,
            "_model_name": "LayoutModel",
            "justify_items": null,
            "grid_row": null,
            "max_height": null,
            "align_content": null,
            "visibility": null,
            "align_self": null,
            "height": null,
            "min_height": null,
            "padding": null,
            "grid_auto_rows": null,
            "grid_gap": null,
            "max_width": null,
            "order": null,
            "_view_module_version": "1.2.0",
            "grid_template_areas": null,
            "object_position": null,
            "object_fit": null,
            "grid_auto_columns": null,
            "margin": null,
            "display": null,
            "left": null
          }
        },
        "6b38325e30e244ce8fb9b581c716f5d4": {
          "model_module": "@jupyter-widgets/controls",
          "model_name": "FloatProgressModel",
          "state": {
            "_view_name": "ProgressView",
            "style": "IPY_MODEL_171b8d9065a14611a0be28b4c38d1596",
            "_dom_classes": [],
            "description": "",
            "_model_name": "FloatProgressModel",
            "bar_style": "info",
            "max": 1,
            "_view_module": "@jupyter-widgets/controls",
            "_model_module_version": "1.5.0",
            "value": 1,
            "_view_count": null,
            "_view_module_version": "1.5.0",
            "orientation": "horizontal",
            "min": 0,
            "description_tooltip": null,
            "_model_module": "@jupyter-widgets/controls",
            "layout": "IPY_MODEL_da20c2003c2647f696d465f6c7d49949"
          }
        },
        "0ab5bcc826b74615beab51c53b4e71fa": {
          "model_module": "@jupyter-widgets/controls",
          "model_name": "HTMLModel",
          "state": {
            "_view_name": "HTMLView",
            "style": "IPY_MODEL_4140277af16a4936aa6c8375c39a8874",
            "_dom_classes": [],
            "description": "",
            "_model_name": "HTMLModel",
            "placeholder": "​",
            "_view_module": "@jupyter-widgets/controls",
            "_model_module_version": "1.5.0",
            "value": " 50000/0 [00:18&lt;00:00, 3323.78 examples/s]",
            "_view_count": null,
            "_view_module_version": "1.5.0",
            "description_tooltip": null,
            "_model_module": "@jupyter-widgets/controls",
            "layout": "IPY_MODEL_1a1874f0b85e4c709ed1a74f8f044f2e"
          }
        },
        "171b8d9065a14611a0be28b4c38d1596": {
          "model_module": "@jupyter-widgets/controls",
          "model_name": "ProgressStyleModel",
          "state": {
            "_view_name": "StyleView",
            "_model_name": "ProgressStyleModel",
            "description_width": "initial",
            "_view_module": "@jupyter-widgets/base",
            "_model_module_version": "1.5.0",
            "_view_count": null,
            "_view_module_version": "1.2.0",
            "bar_color": null,
            "_model_module": "@jupyter-widgets/controls"
          }
        },
        "da20c2003c2647f696d465f6c7d49949": {
          "model_module": "@jupyter-widgets/base",
          "model_name": "LayoutModel",
          "state": {
            "_view_name": "LayoutView",
            "grid_template_rows": null,
            "right": null,
            "justify_content": null,
            "_view_module": "@jupyter-widgets/base",
            "overflow": null,
            "_model_module_version": "1.2.0",
            "_view_count": null,
            "flex_flow": null,
            "width": null,
            "min_width": null,
            "border": null,
            "align_items": null,
            "bottom": null,
            "_model_module": "@jupyter-widgets/base",
            "top": null,
            "grid_column": null,
            "overflow_y": null,
            "overflow_x": null,
            "grid_auto_flow": null,
            "grid_area": null,
            "grid_template_columns": null,
            "flex": null,
            "_model_name": "LayoutModel",
            "justify_items": null,
            "grid_row": null,
            "max_height": null,
            "align_content": null,
            "visibility": null,
            "align_self": null,
            "height": null,
            "min_height": null,
            "padding": null,
            "grid_auto_rows": null,
            "grid_gap": null,
            "max_width": null,
            "order": null,
            "_view_module_version": "1.2.0",
            "grid_template_areas": null,
            "object_position": null,
            "object_fit": null,
            "grid_auto_columns": null,
            "margin": null,
            "display": null,
            "left": null
          }
        },
        "4140277af16a4936aa6c8375c39a8874": {
          "model_module": "@jupyter-widgets/controls",
          "model_name": "DescriptionStyleModel",
          "state": {
            "_view_name": "StyleView",
            "_model_name": "DescriptionStyleModel",
            "description_width": "",
            "_view_module": "@jupyter-widgets/base",
            "_model_module_version": "1.5.0",
            "_view_count": null,
            "_view_module_version": "1.2.0",
            "_model_module": "@jupyter-widgets/controls"
          }
        },
        "1a1874f0b85e4c709ed1a74f8f044f2e": {
          "model_module": "@jupyter-widgets/base",
          "model_name": "LayoutModel",
          "state": {
            "_view_name": "LayoutView",
            "grid_template_rows": null,
            "right": null,
            "justify_content": null,
            "_view_module": "@jupyter-widgets/base",
            "overflow": null,
            "_model_module_version": "1.2.0",
            "_view_count": null,
            "flex_flow": null,
            "width": null,
            "min_width": null,
            "border": null,
            "align_items": null,
            "bottom": null,
            "_model_module": "@jupyter-widgets/base",
            "top": null,
            "grid_column": null,
            "overflow_y": null,
            "overflow_x": null,
            "grid_auto_flow": null,
            "grid_area": null,
            "grid_template_columns": null,
            "flex": null,
            "_model_name": "LayoutModel",
            "justify_items": null,
            "grid_row": null,
            "max_height": null,
            "align_content": null,
            "visibility": null,
            "align_self": null,
            "height": null,
            "min_height": null,
            "padding": null,
            "grid_auto_rows": null,
            "grid_gap": null,
            "max_width": null,
            "order": null,
            "_view_module_version": "1.2.0",
            "grid_template_areas": null,
            "object_position": null,
            "object_fit": null,
            "grid_auto_columns": null,
            "margin": null,
            "display": null,
            "left": null
          }
        },
        "b0c7c8997a744554a456e4662c52f291": {
          "model_module": "@jupyter-widgets/controls",
          "model_name": "HBoxModel",
          "state": {
            "_view_name": "HBoxView",
            "_dom_classes": [],
            "_model_name": "HBoxModel",
            "_view_module": "@jupyter-widgets/controls",
            "_model_module_version": "1.5.0",
            "_view_count": null,
            "_view_module_version": "1.5.0",
            "box_style": "",
            "layout": "IPY_MODEL_f9aa2e7cf954455191bab1ab2b977123",
            "_model_module": "@jupyter-widgets/controls",
            "children": [
              "IPY_MODEL_d229e97c98024963ab2692d86a57e460",
              "IPY_MODEL_2c43336c2b584c278daac964e7604740"
            ]
          }
        },
        "f9aa2e7cf954455191bab1ab2b977123": {
          "model_module": "@jupyter-widgets/base",
          "model_name": "LayoutModel",
          "state": {
            "_view_name": "LayoutView",
            "grid_template_rows": null,
            "right": null,
            "justify_content": null,
            "_view_module": "@jupyter-widgets/base",
            "overflow": null,
            "_model_module_version": "1.2.0",
            "_view_count": null,
            "flex_flow": null,
            "width": null,
            "min_width": null,
            "border": null,
            "align_items": null,
            "bottom": null,
            "_model_module": "@jupyter-widgets/base",
            "top": null,
            "grid_column": null,
            "overflow_y": null,
            "overflow_x": null,
            "grid_auto_flow": null,
            "grid_area": null,
            "grid_template_columns": null,
            "flex": null,
            "_model_name": "LayoutModel",
            "justify_items": null,
            "grid_row": null,
            "max_height": null,
            "align_content": null,
            "visibility": null,
            "align_self": null,
            "height": null,
            "min_height": null,
            "padding": null,
            "grid_auto_rows": null,
            "grid_gap": null,
            "max_width": null,
            "order": null,
            "_view_module_version": "1.2.0",
            "grid_template_areas": null,
            "object_position": null,
            "object_fit": null,
            "grid_auto_columns": null,
            "margin": null,
            "display": null,
            "left": null
          }
        },
        "d229e97c98024963ab2692d86a57e460": {
          "model_module": "@jupyter-widgets/controls",
          "model_name": "FloatProgressModel",
          "state": {
            "_view_name": "ProgressView",
            "style": "IPY_MODEL_e29e4eea81fa4406ac387f6cae893401",
            "_dom_classes": [],
            "description": " 55%",
            "_model_name": "FloatProgressModel",
            "bar_style": "danger",
            "max": 50000,
            "_view_module": "@jupyter-widgets/controls",
            "_model_module_version": "1.5.0",
            "value": 27556,
            "_view_count": null,
            "_view_module_version": "1.5.0",
            "orientation": "horizontal",
            "min": 0,
            "description_tooltip": null,
            "_model_module": "@jupyter-widgets/controls",
            "layout": "IPY_MODEL_962dbd0c55eb4055b65114737dd31b43"
          }
        },
        "2c43336c2b584c278daac964e7604740": {
          "model_module": "@jupyter-widgets/controls",
          "model_name": "HTMLModel",
          "state": {
            "_view_name": "HTMLView",
            "style": "IPY_MODEL_bff8a9094e0840b9a1a668a61de412bd",
            "_dom_classes": [],
            "description": "",
            "_model_name": "HTMLModel",
            "placeholder": "​",
            "_view_module": "@jupyter-widgets/controls",
            "_model_module_version": "1.5.0",
            "value": " 27556/50000 [00:05&lt;00:00, 51346.09 examples/s]",
            "_view_count": null,
            "_view_module_version": "1.5.0",
            "description_tooltip": null,
            "_model_module": "@jupyter-widgets/controls",
            "layout": "IPY_MODEL_d3fb9e79a49c439989688a549d2231b3"
          }
        },
        "e29e4eea81fa4406ac387f6cae893401": {
          "model_module": "@jupyter-widgets/controls",
          "model_name": "ProgressStyleModel",
          "state": {
            "_view_name": "StyleView",
            "_model_name": "ProgressStyleModel",
            "description_width": "initial",
            "_view_module": "@jupyter-widgets/base",
            "_model_module_version": "1.5.0",
            "_view_count": null,
            "_view_module_version": "1.2.0",
            "bar_color": null,
            "_model_module": "@jupyter-widgets/controls"
          }
        },
        "962dbd0c55eb4055b65114737dd31b43": {
          "model_module": "@jupyter-widgets/base",
          "model_name": "LayoutModel",
          "state": {
            "_view_name": "LayoutView",
            "grid_template_rows": null,
            "right": null,
            "justify_content": null,
            "_view_module": "@jupyter-widgets/base",
            "overflow": null,
            "_model_module_version": "1.2.0",
            "_view_count": null,
            "flex_flow": null,
            "width": null,
            "min_width": null,
            "border": null,
            "align_items": null,
            "bottom": null,
            "_model_module": "@jupyter-widgets/base",
            "top": null,
            "grid_column": null,
            "overflow_y": null,
            "overflow_x": null,
            "grid_auto_flow": null,
            "grid_area": null,
            "grid_template_columns": null,
            "flex": null,
            "_model_name": "LayoutModel",
            "justify_items": null,
            "grid_row": null,
            "max_height": null,
            "align_content": null,
            "visibility": null,
            "align_self": null,
            "height": null,
            "min_height": null,
            "padding": null,
            "grid_auto_rows": null,
            "grid_gap": null,
            "max_width": null,
            "order": null,
            "_view_module_version": "1.2.0",
            "grid_template_areas": null,
            "object_position": null,
            "object_fit": null,
            "grid_auto_columns": null,
            "margin": null,
            "display": null,
            "left": null
          }
        },
        "bff8a9094e0840b9a1a668a61de412bd": {
          "model_module": "@jupyter-widgets/controls",
          "model_name": "DescriptionStyleModel",
          "state": {
            "_view_name": "StyleView",
            "_model_name": "DescriptionStyleModel",
            "description_width": "",
            "_view_module": "@jupyter-widgets/base",
            "_model_module_version": "1.5.0",
            "_view_count": null,
            "_view_module_version": "1.2.0",
            "_model_module": "@jupyter-widgets/controls"
          }
        },
        "d3fb9e79a49c439989688a549d2231b3": {
          "model_module": "@jupyter-widgets/base",
          "model_name": "LayoutModel",
          "state": {
            "_view_name": "LayoutView",
            "grid_template_rows": null,
            "right": null,
            "justify_content": null,
            "_view_module": "@jupyter-widgets/base",
            "overflow": null,
            "_model_module_version": "1.2.0",
            "_view_count": null,
            "flex_flow": null,
            "width": null,
            "min_width": null,
            "border": null,
            "align_items": null,
            "bottom": null,
            "_model_module": "@jupyter-widgets/base",
            "top": null,
            "grid_column": null,
            "overflow_y": null,
            "overflow_x": null,
            "grid_auto_flow": null,
            "grid_area": null,
            "grid_template_columns": null,
            "flex": null,
            "_model_name": "LayoutModel",
            "justify_items": null,
            "grid_row": null,
            "max_height": null,
            "align_content": null,
            "visibility": null,
            "align_self": null,
            "height": null,
            "min_height": null,
            "padding": null,
            "grid_auto_rows": null,
            "grid_gap": null,
            "max_width": null,
            "order": null,
            "_view_module_version": "1.2.0",
            "grid_template_areas": null,
            "object_position": null,
            "object_fit": null,
            "grid_auto_columns": null,
            "margin": null,
            "display": null,
            "left": null
          }
        }
      }
    }
  },
  "cells": [
    {
      "cell_type": "code",
      "metadata": {
        "id": "P-AhVYeBWgQ3",
        "colab": {
          "base_uri": "https://localhost:8080/"
        },
        "outputId": "c68f2f7d-9988-481d-8373-8b2fd9091f1b"
      },
      "source": [
        "import tensorflow as tf\n",
        "print(tf.__version__)\n",
        "\n",
        "# !pip install -q tensorflow-datasets"
      ],
      "execution_count": null,
      "outputs": [
        {
          "output_type": "stream",
          "text": [
            "2.3.0\n"
          ],
          "name": "stdout"
        }
      ]
    },
    {
      "cell_type": "code",
      "metadata": {
        "id": "_IoM4VFxWpMR",
        "colab": {
          "base_uri": "https://localhost:8080/",
          "height": 367,
          "referenced_widgets": [
            "b76a3a7b538741989ce9488183bb5725",
            "898392468a734aa0a6e7b1112bd0dd59",
            "195a13c23b344eaaa1c5edd56b9a0d48",
            "241ff6e29e32435d82244e6efa92b678",
            "a43a9f52c7214e2d87b97b2c835879a0",
            "c0d59670d7ad46a9bda60912242b62d0",
            "52632276f1d04160b7544b25aa634700",
            "b4c217848c2c41a285499130bfd2622a",
            "234e774ce383473da3765992f74ce2c8",
            "3ab14e5450ae4e2195c76b013dff4a20",
            "fdd3a5c7ff564bf98dc3392da9ba74bc",
            "d2b92a3b0b454a9aa4590957537f83fb",
            "a0d869f6e18f4ba7beb297ad95134c24",
            "ef3c3b97fb694974a0abe36ac8340af2",
            "6f5a766ae7f24d68ac6433d064bb1c58",
            "5cf6e40f5a8f4ee19206feae1d17124b",
            "12bbb08fa0164cc3a7755b59e599e4a5",
            "c555155ffbfb45cf8dad148773c8270c",
            "24ac912252c0465b96e4537ee01d564a",
            "f393f233c5374fbeaa9851ef916763c2",
            "37d4d00288804cfb831d05ddc73e05a9",
            "942c97feee2747199cf7f8bbeb5d457a",
            "659d0e7f294b42bea0e943c90544f2c4",
            "44502bce58084e95b8225e7f51c978ed",
            "d9c90ddf4ea84d5d9ca9011cbff97ff0",
            "ed97b7e4e6de4bd09b24a8816ba50be1",
            "0b0cbb69ff584dc99a6914295b1fdd30",
            "4aae956483ae4e81899a8b82a550e0d6",
            "0b34c69ad8db4952b8feaebc505e50d7",
            "b7dc7d5e30a741a480c9c119263fd18d",
            "a40d027157134e4eadc2afefb86b8b2d",
            "526fa3f2316442c19c076321d3b82bb2",
            "61d8c785ec3440908475412aeb6e7c12",
            "9bfdbb44f2e44444a3a4c0ecd48501a1",
            "f8750d92b16540b08f59d764d58769d3",
            "7820a71a3135469aa5baab69b5e0cfff",
            "3d8d4f970c0d4771b8941466305f7f09",
            "8dd4c687c15e40d0b8764e5726093bd8",
            "f88e09f6bb044931ac2143ecb03b281d",
            "a5ddf35522f14d208e7732b25ef34193",
            "33706c7296384034be5fc704ec0ec113",
            "419f971e594a403eaa6356e21db6a629",
            "8dcc62b82c0242afa515bfdb2d111351",
            "cfd49a176a0c4e9dbe5528ec8222d77e",
            "117366e2ab21494a9918bb774540b50f",
            "31f8963dd1444db8b057b1656d20eec1",
            "53d15d75ee4e42bfba6c82aded66b255",
            "adfd8188eab24e45a7a78cbe7c7b69b6",
            "00a36e76a4604db7bced553d9d08a1de",
            "65a5cfcc5c894fb68c915764636dfcca",
            "6b38325e30e244ce8fb9b581c716f5d4",
            "0ab5bcc826b74615beab51c53b4e71fa",
            "171b8d9065a14611a0be28b4c38d1596",
            "da20c2003c2647f696d465f6c7d49949",
            "4140277af16a4936aa6c8375c39a8874",
            "1a1874f0b85e4c709ed1a74f8f044f2e",
            "b0c7c8997a744554a456e4662c52f291",
            "f9aa2e7cf954455191bab1ab2b977123",
            "d229e97c98024963ab2692d86a57e460",
            "2c43336c2b584c278daac964e7604740",
            "e29e4eea81fa4406ac387f6cae893401",
            "962dbd0c55eb4055b65114737dd31b43",
            "bff8a9094e0840b9a1a668a61de412bd",
            "d3fb9e79a49c439989688a549d2231b3"
          ]
        },
        "outputId": "216204bf-72cd-4593-8f58-90c40bc25421"
      },
      "source": [
        "import tensorflow_datasets as tfds\n",
        "imdb, info = tfds.load(\"imdb_reviews\", with_info=True, as_supervised=True)\n"
      ],
      "execution_count": null,
      "outputs": [
        {
          "output_type": "stream",
          "text": [
            "\u001b[1mDownloading and preparing dataset imdb_reviews/plain_text/1.0.0 (download: 80.23 MiB, generated: Unknown size, total: 80.23 MiB) to /root/tensorflow_datasets/imdb_reviews/plain_text/1.0.0...\u001b[0m\n"
          ],
          "name": "stdout"
        },
        {
          "output_type": "display_data",
          "data": {
            "application/vnd.jupyter.widget-view+json": {
              "model_id": "b76a3a7b538741989ce9488183bb5725",
              "version_minor": 0,
              "version_major": 2
            },
            "text/plain": [
              "HBox(children=(FloatProgress(value=1.0, bar_style='info', description='Dl Completed...', max=1.0, style=Progre…"
            ]
          },
          "metadata": {
            "tags": []
          }
        },
        {
          "output_type": "display_data",
          "data": {
            "application/vnd.jupyter.widget-view+json": {
              "model_id": "234e774ce383473da3765992f74ce2c8",
              "version_minor": 0,
              "version_major": 2
            },
            "text/plain": [
              "HBox(children=(FloatProgress(value=1.0, bar_style='info', description='Dl Size...', max=1.0, style=ProgressSty…"
            ]
          },
          "metadata": {
            "tags": []
          }
        },
        {
          "output_type": "stream",
          "text": [
            "\n",
            "\n",
            "\n",
            "\n"
          ],
          "name": "stdout"
        },
        {
          "output_type": "display_data",
          "data": {
            "application/vnd.jupyter.widget-view+json": {
              "model_id": "12bbb08fa0164cc3a7755b59e599e4a5",
              "version_minor": 0,
              "version_major": 2
            },
            "text/plain": [
              "HBox(children=(FloatProgress(value=1.0, bar_style='info', max=1.0), HTML(value='')))"
            ]
          },
          "metadata": {
            "tags": []
          }
        },
        {
          "output_type": "stream",
          "text": [
            "\rShuffling and writing examples to /root/tensorflow_datasets/imdb_reviews/plain_text/1.0.0.incompleteJOM0I7/imdb_reviews-train.tfrecord\n"
          ],
          "name": "stdout"
        },
        {
          "output_type": "display_data",
          "data": {
            "application/vnd.jupyter.widget-view+json": {
              "model_id": "d9c90ddf4ea84d5d9ca9011cbff97ff0",
              "version_minor": 0,
              "version_major": 2
            },
            "text/plain": [
              "HBox(children=(FloatProgress(value=0.0, max=25000.0), HTML(value='')))"
            ]
          },
          "metadata": {
            "tags": []
          }
        },
        {
          "output_type": "stream",
          "text": [
            "\r"
          ],
          "name": "stdout"
        },
        {
          "output_type": "display_data",
          "data": {
            "application/vnd.jupyter.widget-view+json": {
              "model_id": "61d8c785ec3440908475412aeb6e7c12",
              "version_minor": 0,
              "version_major": 2
            },
            "text/plain": [
              "HBox(children=(FloatProgress(value=1.0, bar_style='info', max=1.0), HTML(value='')))"
            ]
          },
          "metadata": {
            "tags": []
          }
        },
        {
          "output_type": "stream",
          "text": [
            "\rShuffling and writing examples to /root/tensorflow_datasets/imdb_reviews/plain_text/1.0.0.incompleteJOM0I7/imdb_reviews-test.tfrecord\n"
          ],
          "name": "stdout"
        },
        {
          "output_type": "display_data",
          "data": {
            "application/vnd.jupyter.widget-view+json": {
              "model_id": "33706c7296384034be5fc704ec0ec113",
              "version_minor": 0,
              "version_major": 2
            },
            "text/plain": [
              "HBox(children=(FloatProgress(value=0.0, max=25000.0), HTML(value='')))"
            ]
          },
          "metadata": {
            "tags": []
          }
        },
        {
          "output_type": "stream",
          "text": [
            "\r"
          ],
          "name": "stdout"
        },
        {
          "output_type": "display_data",
          "data": {
            "application/vnd.jupyter.widget-view+json": {
              "model_id": "00a36e76a4604db7bced553d9d08a1de",
              "version_minor": 0,
              "version_major": 2
            },
            "text/plain": [
              "HBox(children=(FloatProgress(value=1.0, bar_style='info', max=1.0), HTML(value='')))"
            ]
          },
          "metadata": {
            "tags": []
          }
        },
        {
          "output_type": "stream",
          "text": [
            "\rShuffling and writing examples to /root/tensorflow_datasets/imdb_reviews/plain_text/1.0.0.incompleteJOM0I7/imdb_reviews-unsupervised.tfrecord\n"
          ],
          "name": "stdout"
        },
        {
          "output_type": "display_data",
          "data": {
            "application/vnd.jupyter.widget-view+json": {
              "model_id": "b0c7c8997a744554a456e4662c52f291",
              "version_minor": 0,
              "version_major": 2
            },
            "text/plain": [
              "HBox(children=(FloatProgress(value=0.0, max=50000.0), HTML(value='')))"
            ]
          },
          "metadata": {
            "tags": []
          }
        },
        {
          "output_type": "stream",
          "text": [
            "WARNING:absl:Dataset is using deprecated text encoder API which will be removed soon. Please use the plain_text version of the dataset and migrate to `tensorflow_text`.\n"
          ],
          "name": "stderr"
        },
        {
          "output_type": "stream",
          "text": [
            "\u001b[1mDataset imdb_reviews downloaded and prepared to /root/tensorflow_datasets/imdb_reviews/plain_text/1.0.0. Subsequent calls will reuse this data.\u001b[0m\n"
          ],
          "name": "stdout"
        }
      ]
    },
    {
      "cell_type": "code",
      "metadata": {
        "id": "wHQ2Ko0zl7M4"
      },
      "source": [
        "import numpy as np\n",
        "\n",
        "train_data, test_data = imdb['train'], imdb['test']\n",
        "\n",
        "training_sentences = []\n",
        "training_labels = []\n",
        "\n",
        "testing_sentences = []\n",
        "testing_labels = []\n",
        "\n",
        "# str(s.tonumpy()) is needed in Python3 instead of just s.numpy()\n",
        "for s,l in train_data:\n",
        "  training_sentences.append(str(s.numpy()))\n",
        "  training_labels.append(l.numpy())\n",
        "  \n",
        "for s,l in test_data:\n",
        "  testing_sentences.append(str(s.numpy()))\n",
        "  testing_labels.append(l.numpy())\n",
        "  \n",
        "training_labels_final = np.array(training_labels)\n",
        "testing_labels_final = np.array(testing_labels)\n"
      ],
      "execution_count": null,
      "outputs": []
    },
    {
      "cell_type": "code",
      "metadata": {
        "id": "7n15yyMdmoH1"
      },
      "source": [
        "vocab_size = 10000\n",
        "embedding_dim = 16\n",
        "max_length = 120\n",
        "trunc_type='post'\n",
        "oov_tok = \"<OOV>\"\n",
        "\n",
        "\n",
        "from tensorflow.keras.preprocessing.text import Tokenizer\n",
        "from tensorflow.keras.preprocessing.sequence import pad_sequences\n",
        "\n",
        "tokenizer = Tokenizer(num_words = vocab_size, oov_token=oov_tok)\n",
        "tokenizer.fit_on_texts(training_sentences)\n",
        "word_index = tokenizer.word_index\n",
        "sequences = tokenizer.texts_to_sequences(training_sentences)\n",
        "padded = pad_sequences(sequences,maxlen=max_length, truncating=trunc_type)\n",
        "\n",
        "testing_sequences = tokenizer.texts_to_sequences(testing_sentences)\n",
        "testing_padded = pad_sequences(testing_sequences,maxlen=max_length)\n"
      ],
      "execution_count": null,
      "outputs": []
    },
    {
      "cell_type": "code",
      "metadata": {
        "id": "9axf0uIXVMhO",
        "colab": {
          "base_uri": "https://localhost:8080/"
        },
        "outputId": "7471db91-32cd-4a88-b1f9-b791498c6bdd"
      },
      "source": [
        "reverse_word_index = dict([(value, key) for (key, value) in word_index.items()])\n",
        "\n",
        "def decode_review(text):\n",
        "    return ' '.join([reverse_word_index.get(i, '?') for i in text])\n",
        "\n",
        "print(decode_review(padded[1]))\n",
        "print(training_sentences[1])"
      ],
      "execution_count": null,
      "outputs": [
        {
          "output_type": "stream",
          "text": [
            "? ? ? ? ? ? ? b'i have been known to fall asleep during films but this is usually due to a combination of things including really tired being warm and comfortable on the <OOV> and having just eaten a lot however on this occasion i fell asleep because the film was rubbish the plot development was constant constantly slow and boring things seemed to happen but with no explanation of what was causing them or why i admit i may have missed part of the film but i watched the majority of it and everything just seemed to happen of its own <OOV> without any real concern for anything else i cant recommend this film at all '\n",
            "b'I have been known to fall asleep during films, but this is usually due to a combination of things including, really tired, being warm and comfortable on the sette and having just eaten a lot. However on this occasion I fell asleep because the film was rubbish. The plot development was constant. Constantly slow and boring. Things seemed to happen, but with no explanation of what was causing them or why. I admit, I may have missed part of the film, but i watched the majority of it and everything just seemed to happen of its own accord without any real concern for anything else. I cant recommend this film at all.'\n"
          ],
          "name": "stdout"
        }
      ]
    },
    {
      "cell_type": "markdown",
      "metadata": {
        "id": "g1avLobSIIbV"
      },
      "source": [
        "#GRU"
      ]
    },
    {
      "cell_type": "code",
      "metadata": {
        "id": "5NEpdhb8AxID",
        "colab": {
          "base_uri": "https://localhost:8080/"
        },
        "outputId": "b06892fa-cbcd-4dd0-955e-aab7a43c9092"
      },
      "source": [
        "model = tf.keras.Sequential([\n",
        "    tf.keras.layers.Embedding(vocab_size, embedding_dim, input_length=max_length),\n",
        "    tf.keras.layers.Bidirectional(tf.keras.layers.GRU(32)),\n",
        "    tf.keras.layers.Dense(6, activation='relu'),\n",
        "    tf.keras.layers.Dense(1, activation='sigmoid')\n",
        "])\n",
        "model.compile(loss='binary_crossentropy',optimizer='adam',metrics=['accuracy'])\n",
        "model.summary()\n"
      ],
      "execution_count": null,
      "outputs": [
        {
          "output_type": "stream",
          "text": [
            "Model: \"sequential\"\n",
            "_________________________________________________________________\n",
            "Layer (type)                 Output Shape              Param #   \n",
            "=================================================================\n",
            "embedding (Embedding)        (None, 120, 16)           160000    \n",
            "_________________________________________________________________\n",
            "bidirectional (Bidirectional (None, 64)                9600      \n",
            "_________________________________________________________________\n",
            "dense (Dense)                (None, 6)                 390       \n",
            "_________________________________________________________________\n",
            "dense_1 (Dense)              (None, 1)                 7         \n",
            "=================================================================\n",
            "Total params: 169,997\n",
            "Trainable params: 169,997\n",
            "Non-trainable params: 0\n",
            "_________________________________________________________________\n"
          ],
          "name": "stdout"
        }
      ]
    },
    {
      "cell_type": "code",
      "metadata": {
        "id": "V5LLrXC-uNX6",
        "colab": {
          "base_uri": "https://localhost:8080/"
        },
        "outputId": "57d95591-6a64-48cb-a32b-edf1bbd9079e"
      },
      "source": [
        "num_epochs = 50\n",
        "history = model.fit(padded, training_labels_final, epochs=num_epochs, validation_data=(testing_padded, testing_labels_final))"
      ],
      "execution_count": null,
      "outputs": [
        {
          "output_type": "stream",
          "text": [
            "Epoch 1/50\n",
            "782/782 [==============================] - 16s 21ms/step - loss: 0.5147 - accuracy: 0.7216 - val_loss: 0.3791 - val_accuracy: 0.8308\n",
            "Epoch 2/50\n",
            "782/782 [==============================] - 16s 20ms/step - loss: 0.3012 - accuracy: 0.8771 - val_loss: 0.3509 - val_accuracy: 0.8464\n",
            "Epoch 3/50\n",
            "782/782 [==============================] - 16s 20ms/step - loss: 0.2373 - accuracy: 0.9076 - val_loss: 0.3804 - val_accuracy: 0.8406\n",
            "Epoch 4/50\n",
            "782/782 [==============================] - 16s 20ms/step - loss: 0.1776 - accuracy: 0.9350 - val_loss: 0.4284 - val_accuracy: 0.8333\n",
            "Epoch 5/50\n",
            "782/782 [==============================] - 16s 20ms/step - loss: 0.1270 - accuracy: 0.9556 - val_loss: 0.4670 - val_accuracy: 0.8193\n",
            "Epoch 6/50\n",
            "782/782 [==============================] - 16s 20ms/step - loss: 0.0843 - accuracy: 0.9716 - val_loss: 0.6687 - val_accuracy: 0.8269\n",
            "Epoch 7/50\n",
            "782/782 [==============================] - 16s 21ms/step - loss: 0.0613 - accuracy: 0.9796 - val_loss: 0.6932 - val_accuracy: 0.8225\n",
            "Epoch 8/50\n",
            "782/782 [==============================] - 16s 21ms/step - loss: 0.0380 - accuracy: 0.9882 - val_loss: 0.8296 - val_accuracy: 0.8142\n",
            "Epoch 9/50\n",
            "782/782 [==============================] - 16s 21ms/step - loss: 0.0303 - accuracy: 0.9900 - val_loss: 0.8486 - val_accuracy: 0.8202\n",
            "Epoch 10/50\n",
            "782/782 [==============================] - 16s 20ms/step - loss: 0.0260 - accuracy: 0.9916 - val_loss: 0.8761 - val_accuracy: 0.8113\n",
            "Epoch 11/50\n",
            "782/782 [==============================] - 16s 20ms/step - loss: 0.0196 - accuracy: 0.9932 - val_loss: 0.9847 - val_accuracy: 0.8155\n",
            "Epoch 12/50\n",
            "782/782 [==============================] - 16s 20ms/step - loss: 0.0127 - accuracy: 0.9958 - val_loss: 1.0714 - val_accuracy: 0.8100\n",
            "Epoch 13/50\n",
            "782/782 [==============================] - 16s 20ms/step - loss: 0.0149 - accuracy: 0.9950 - val_loss: 1.1513 - val_accuracy: 0.8060\n",
            "Epoch 14/50\n",
            "782/782 [==============================] - 16s 20ms/step - loss: 0.0088 - accuracy: 0.9971 - val_loss: 1.2484 - val_accuracy: 0.7949\n",
            "Epoch 15/50\n",
            "782/782 [==============================] - 16s 20ms/step - loss: 0.0097 - accuracy: 0.9964 - val_loss: 1.1459 - val_accuracy: 0.8124\n",
            "Epoch 16/50\n",
            "782/782 [==============================] - 16s 20ms/step - loss: 0.0083 - accuracy: 0.9973 - val_loss: 1.2344 - val_accuracy: 0.8048\n",
            "Epoch 17/50\n",
            "782/782 [==============================] - 16s 20ms/step - loss: 0.0082 - accuracy: 0.9973 - val_loss: 1.2879 - val_accuracy: 0.8078\n",
            "Epoch 18/50\n",
            "782/782 [==============================] - 16s 21ms/step - loss: 0.0085 - accuracy: 0.9971 - val_loss: 1.3876 - val_accuracy: 0.8082\n",
            "Epoch 19/50\n",
            "782/782 [==============================] - 16s 20ms/step - loss: 0.0049 - accuracy: 0.9984 - val_loss: 1.4404 - val_accuracy: 0.7994\n",
            "Epoch 20/50\n",
            "782/782 [==============================] - 16s 20ms/step - loss: 0.0035 - accuracy: 0.9988 - val_loss: 1.3903 - val_accuracy: 0.8064\n",
            "Epoch 21/50\n",
            "782/782 [==============================] - 16s 20ms/step - loss: 0.0057 - accuracy: 0.9979 - val_loss: 1.4050 - val_accuracy: 0.7947\n",
            "Epoch 22/50\n",
            "782/782 [==============================] - 16s 20ms/step - loss: 0.0057 - accuracy: 0.9978 - val_loss: 1.4816 - val_accuracy: 0.8027\n",
            "Epoch 23/50\n",
            "782/782 [==============================] - 16s 20ms/step - loss: 0.0043 - accuracy: 0.9986 - val_loss: 1.4996 - val_accuracy: 0.8024\n",
            "Epoch 24/50\n",
            "782/782 [==============================] - 16s 20ms/step - loss: 0.0072 - accuracy: 0.9976 - val_loss: 1.4013 - val_accuracy: 0.8061\n",
            "Epoch 25/50\n",
            "782/782 [==============================] - 16s 20ms/step - loss: 0.0032 - accuracy: 0.9989 - val_loss: 1.4662 - val_accuracy: 0.8000\n",
            "Epoch 26/50\n",
            "782/782 [==============================] - 16s 20ms/step - loss: 5.3964e-04 - accuracy: 0.9999 - val_loss: 1.6548 - val_accuracy: 0.8067\n",
            "Epoch 27/50\n",
            "782/782 [==============================] - 16s 20ms/step - loss: 1.1129e-04 - accuracy: 1.0000 - val_loss: 1.6718 - val_accuracy: 0.8071\n",
            "Epoch 28/50\n",
            "782/782 [==============================] - 16s 20ms/step - loss: 2.7656e-05 - accuracy: 1.0000 - val_loss: 1.7294 - val_accuracy: 0.8080\n",
            "Epoch 29/50\n",
            "782/782 [==============================] - 16s 20ms/step - loss: 1.8589e-05 - accuracy: 1.0000 - val_loss: 1.7856 - val_accuracy: 0.8081\n",
            "Epoch 30/50\n",
            "782/782 [==============================] - 16s 20ms/step - loss: 1.2704e-05 - accuracy: 1.0000 - val_loss: 1.8384 - val_accuracy: 0.8083\n",
            "Epoch 31/50\n",
            "782/782 [==============================] - 16s 20ms/step - loss: 8.6384e-06 - accuracy: 1.0000 - val_loss: 1.8961 - val_accuracy: 0.8085\n",
            "Epoch 32/50\n",
            "782/782 [==============================] - 16s 20ms/step - loss: 5.8240e-06 - accuracy: 1.0000 - val_loss: 1.9571 - val_accuracy: 0.8090\n",
            "Epoch 33/50\n",
            "782/782 [==============================] - 16s 20ms/step - loss: 3.9165e-06 - accuracy: 1.0000 - val_loss: 2.0164 - val_accuracy: 0.8084\n",
            "Epoch 34/50\n",
            "782/782 [==============================] - 16s 20ms/step - loss: 2.6076e-06 - accuracy: 1.0000 - val_loss: 2.0769 - val_accuracy: 0.8094\n",
            "Epoch 35/50\n",
            "782/782 [==============================] - 15s 20ms/step - loss: 1.7316e-06 - accuracy: 1.0000 - val_loss: 2.1395 - val_accuracy: 0.8097\n",
            "Epoch 36/50\n",
            "782/782 [==============================] - 15s 20ms/step - loss: 1.1428e-06 - accuracy: 1.0000 - val_loss: 2.2065 - val_accuracy: 0.8092\n",
            "Epoch 37/50\n",
            "782/782 [==============================] - 16s 20ms/step - loss: 7.5057e-07 - accuracy: 1.0000 - val_loss: 2.2687 - val_accuracy: 0.8094\n",
            "Epoch 38/50\n",
            "782/782 [==============================] - 16s 20ms/step - loss: 4.9342e-07 - accuracy: 1.0000 - val_loss: 2.3335 - val_accuracy: 0.8095\n",
            "Epoch 39/50\n",
            "782/782 [==============================] - 16s 20ms/step - loss: 3.2551e-07 - accuracy: 1.0000 - val_loss: 2.3979 - val_accuracy: 0.8094\n",
            "Epoch 40/50\n",
            "782/782 [==============================] - 16s 20ms/step - loss: 2.1340e-07 - accuracy: 1.0000 - val_loss: 2.4631 - val_accuracy: 0.8096\n",
            "Epoch 41/50\n",
            "782/782 [==============================] - 15s 20ms/step - loss: 1.4074e-07 - accuracy: 1.0000 - val_loss: 2.5320 - val_accuracy: 0.8092\n",
            "Epoch 42/50\n",
            "782/782 [==============================] - 15s 20ms/step - loss: 9.2972e-08 - accuracy: 1.0000 - val_loss: 2.5966 - val_accuracy: 0.8086\n",
            "Epoch 43/50\n",
            "782/782 [==============================] - 16s 20ms/step - loss: 6.1714e-08 - accuracy: 1.0000 - val_loss: 2.6573 - val_accuracy: 0.8093\n",
            "Epoch 44/50\n",
            "782/782 [==============================] - 15s 20ms/step - loss: 4.1114e-08 - accuracy: 1.0000 - val_loss: 2.7198 - val_accuracy: 0.8095\n",
            "Epoch 45/50\n",
            "782/782 [==============================] - 15s 20ms/step - loss: 2.7748e-08 - accuracy: 1.0000 - val_loss: 2.7853 - val_accuracy: 0.8094\n",
            "Epoch 46/50\n",
            "782/782 [==============================] - 15s 20ms/step - loss: 1.8794e-08 - accuracy: 1.0000 - val_loss: 2.8474 - val_accuracy: 0.8098\n",
            "Epoch 47/50\n",
            "782/782 [==============================] - 15s 20ms/step - loss: 1.2882e-08 - accuracy: 1.0000 - val_loss: 2.9067 - val_accuracy: 0.8098\n",
            "Epoch 48/50\n",
            "782/782 [==============================] - 15s 20ms/step - loss: 8.9981e-09 - accuracy: 1.0000 - val_loss: 2.9652 - val_accuracy: 0.8094\n",
            "Epoch 49/50\n",
            "782/782 [==============================] - 16s 20ms/step - loss: 6.3773e-09 - accuracy: 1.0000 - val_loss: 3.0177 - val_accuracy: 0.8096\n",
            "Epoch 50/50\n",
            "782/782 [==============================] - 16s 20ms/step - loss: 4.5870e-09 - accuracy: 1.0000 - val_loss: 3.0697 - val_accuracy: 0.8092\n"
          ],
          "name": "stdout"
        }
      ]
    },
    {
      "cell_type": "code",
      "metadata": {
        "id": "nHGYuU4jPYaj",
        "colab": {
          "base_uri": "https://localhost:8080/",
          "height": 541
        },
        "outputId": "b02647ea-0929-4e74-f45f-0af21f6b7e6e"
      },
      "source": [
        "import matplotlib.pyplot as plt\n",
        "\n",
        "\n",
        "def plot_graphs(history, string):\n",
        "  plt.plot(history.history[string])\n",
        "  plt.plot(history.history['val_'+string])\n",
        "  plt.xlabel(\"Epochs\")\n",
        "  plt.ylabel(string)\n",
        "  plt.legend([string, 'val_'+string])\n",
        "  plt.show()\n",
        "\n",
        "plot_graphs(history, 'accuracy')\n",
        "plot_graphs(history, 'loss')"
      ],
      "execution_count": null,
      "outputs": [
        {
          "output_type": "display_data",
          "data": {
            "image/png": "[encoded data removed]",
            "text/plain": [
              "<Figure size 432x288 with 1 Axes>"
            ]
          },
          "metadata": {
            "tags": [],
            "needs_background": "light"
          }
        },
        {
          "output_type": "display_data",
          "data": {
            "image/png": "[encoded data removed]",
            "text/plain": [
              "<Figure size 432x288 with 1 Axes>"
            ]
          },
          "metadata": {
            "tags": [],
            "needs_background": "light"
          }
        }
      ]
    },
    {
      "cell_type": "markdown",
      "metadata": {
        "id": "FuagyHSiIMXY"
      },
      "source": [
        "#LSTM"
      ]
    },
    {
      "cell_type": "code",
      "metadata": {
        "id": "wSualgGPPK0S",
        "colab": {
          "base_uri": "https://localhost:8080/"
        },
        "outputId": "ddd5d831-8219-4dda-a048-805a76705857"
      },
      "source": [
        "# Model Definition with LSTM\n",
        "model2 = tf.keras.Sequential([\n",
        "    tf.keras.layers.Embedding(vocab_size, embedding_dim, input_length=max_length),\n",
        "    tf.keras.layers.Bidirectional(tf.keras.layers.LSTM(32)),\n",
        "    tf.keras.layers.Dense(6, activation='relu'),\n",
        "    tf.keras.layers.Dense(1, activation='sigmoid')\n",
        "])\n",
        "model2.compile(loss='binary_crossentropy',optimizer='adam',metrics=['accuracy'])\n",
        "model2.summary()\n"
      ],
      "execution_count": null,
      "outputs": [
        {
          "output_type": "stream",
          "text": [
            "Model: \"sequential_1\"\n",
            "_________________________________________________________________\n",
            "Layer (type)                 Output Shape              Param #   \n",
            "=================================================================\n",
            "embedding_1 (Embedding)      (None, 120, 16)           160000    \n",
            "_________________________________________________________________\n",
            "bidirectional_1 (Bidirection (None, 64)                12544     \n",
            "_________________________________________________________________\n",
            "dense_2 (Dense)              (None, 6)                 390       \n",
            "_________________________________________________________________\n",
            "dense_3 (Dense)              (None, 1)                 7         \n",
            "=================================================================\n",
            "Total params: 172,941\n",
            "Trainable params: 172,941\n",
            "Non-trainable params: 0\n",
            "_________________________________________________________________\n"
          ],
          "name": "stdout"
        }
      ]
    },
    {
      "cell_type": "code",
      "metadata": {
        "id": "egzIELnMH2Ms",
        "colab": {
          "base_uri": "https://localhost:8080/"
        },
        "outputId": "c1d8936c-3558-4baf-acb0-7c0aa5b2ce00"
      },
      "source": [
        "num_epochs = 50\n",
        "history2 = model2.fit(padded, training_labels_final, epochs=num_epochs, validation_data=(testing_padded, testing_labels_final))"
      ],
      "execution_count": null,
      "outputs": [
        {
          "output_type": "stream",
          "text": [
            "Epoch 1/50\n",
            "782/782 [==============================] - 16s 21ms/step - loss: 0.6271 - accuracy: 0.6413 - val_loss: 0.5501 - val_accuracy: 0.7186\n",
            "Epoch 2/50\n",
            "782/782 [==============================] - 16s 20ms/step - loss: 0.5666 - accuracy: 0.7155 - val_loss: 0.5344 - val_accuracy: 0.7377\n",
            "Epoch 3/50\n",
            "782/782 [==============================] - 16s 20ms/step - loss: 0.5306 - accuracy: 0.7430 - val_loss: 0.4421 - val_accuracy: 0.8061\n",
            "Epoch 4/50\n",
            "782/782 [==============================] - 16s 20ms/step - loss: 0.3686 - accuracy: 0.8480 - val_loss: 0.3922 - val_accuracy: 0.8318\n",
            "Epoch 5/50\n",
            "782/782 [==============================] - 16s 20ms/step - loss: 0.2886 - accuracy: 0.8882 - val_loss: 0.3701 - val_accuracy: 0.8368\n",
            "Epoch 6/50\n",
            "782/782 [==============================] - 16s 20ms/step - loss: 0.2413 - accuracy: 0.9098 - val_loss: 0.3820 - val_accuracy: 0.8361\n",
            "Epoch 7/50\n",
            "782/782 [==============================] - 16s 21ms/step - loss: 0.2086 - accuracy: 0.9249 - val_loss: 0.4498 - val_accuracy: 0.8313\n",
            "Epoch 8/50\n",
            "782/782 [==============================] - 16s 20ms/step - loss: 0.1766 - accuracy: 0.9390 - val_loss: 0.5054 - val_accuracy: 0.8289\n",
            "Epoch 9/50\n",
            "782/782 [==============================] - 16s 20ms/step - loss: 0.1485 - accuracy: 0.9501 - val_loss: 0.4922 - val_accuracy: 0.8281\n",
            "Epoch 10/50\n",
            "782/782 [==============================] - 16s 20ms/step - loss: 0.1210 - accuracy: 0.9596 - val_loss: 0.7043 - val_accuracy: 0.8108\n",
            "Epoch 11/50\n",
            "782/782 [==============================] - 16s 20ms/step - loss: 0.0932 - accuracy: 0.9716 - val_loss: 0.7985 - val_accuracy: 0.8078\n",
            "Epoch 12/50\n",
            "782/782 [==============================] - 16s 20ms/step - loss: 0.0767 - accuracy: 0.9754 - val_loss: 0.8169 - val_accuracy: 0.8148\n",
            "Epoch 13/50\n",
            "782/782 [==============================] - 16s 20ms/step - loss: 0.0556 - accuracy: 0.9831 - val_loss: 0.8317 - val_accuracy: 0.8152\n",
            "Epoch 14/50\n",
            "782/782 [==============================] - 16s 20ms/step - loss: 0.0469 - accuracy: 0.9847 - val_loss: 0.9016 - val_accuracy: 0.8171\n",
            "Epoch 15/50\n",
            "782/782 [==============================] - 16s 20ms/step - loss: 0.0386 - accuracy: 0.9880 - val_loss: 0.9060 - val_accuracy: 0.8187\n",
            "Epoch 16/50\n",
            "782/782 [==============================] - 16s 20ms/step - loss: 0.0329 - accuracy: 0.9900 - val_loss: 1.0228 - val_accuracy: 0.8074\n",
            "Epoch 17/50\n",
            "782/782 [==============================] - 16s 20ms/step - loss: 0.0229 - accuracy: 0.9933 - val_loss: 1.0653 - val_accuracy: 0.8128\n",
            "Epoch 18/50\n",
            "782/782 [==============================] - 16s 20ms/step - loss: 0.0225 - accuracy: 0.9930 - val_loss: 1.2152 - val_accuracy: 0.8127\n",
            "Epoch 19/50\n",
            "782/782 [==============================] - 16s 20ms/step - loss: 0.0241 - accuracy: 0.9920 - val_loss: 0.9343 - val_accuracy: 0.8126\n",
            "Epoch 20/50\n",
            "782/782 [==============================] - 16s 20ms/step - loss: 0.0166 - accuracy: 0.9946 - val_loss: 1.1796 - val_accuracy: 0.8130\n",
            "Epoch 21/50\n",
            "782/782 [==============================] - 16s 20ms/step - loss: 0.0148 - accuracy: 0.9952 - val_loss: 1.2173 - val_accuracy: 0.8143\n",
            "Epoch 22/50\n",
            "782/782 [==============================] - 16s 20ms/step - loss: 0.0136 - accuracy: 0.9954 - val_loss: 1.2399 - val_accuracy: 0.8147\n",
            "Epoch 23/50\n",
            "782/782 [==============================] - 16s 20ms/step - loss: 0.0125 - accuracy: 0.9964 - val_loss: 1.2967 - val_accuracy: 0.8116\n",
            "Epoch 24/50\n",
            "782/782 [==============================] - 16s 20ms/step - loss: 0.0130 - accuracy: 0.9965 - val_loss: 1.2514 - val_accuracy: 0.8150\n",
            "Epoch 25/50\n",
            "782/782 [==============================] - 16s 20ms/step - loss: 0.0101 - accuracy: 0.9967 - val_loss: 1.2833 - val_accuracy: 0.8143\n",
            "Epoch 26/50\n",
            "782/782 [==============================] - 16s 20ms/step - loss: 0.0097 - accuracy: 0.9968 - val_loss: 1.3223 - val_accuracy: 0.8105\n",
            "Epoch 27/50\n",
            "782/782 [==============================] - 17s 21ms/step - loss: 0.0066 - accuracy: 0.9982 - val_loss: 1.4078 - val_accuracy: 0.8122\n",
            "Epoch 28/50\n",
            "782/782 [==============================] - 16s 20ms/step - loss: 0.0123 - accuracy: 0.9963 - val_loss: 1.2149 - val_accuracy: 0.8116\n",
            "Epoch 29/50\n",
            "782/782 [==============================] - 16s 20ms/step - loss: 0.0115 - accuracy: 0.9964 - val_loss: 1.3859 - val_accuracy: 0.8117\n",
            "Epoch 30/50\n",
            "782/782 [==============================] - 16s 20ms/step - loss: 0.0078 - accuracy: 0.9979 - val_loss: 1.4259 - val_accuracy: 0.8145\n",
            "Epoch 31/50\n",
            "782/782 [==============================] - 16s 20ms/step - loss: 0.0059 - accuracy: 0.9982 - val_loss: 1.3571 - val_accuracy: 0.8104\n",
            "Epoch 32/50\n",
            "782/782 [==============================] - 16s 20ms/step - loss: 0.0059 - accuracy: 0.9979 - val_loss: 1.5703 - val_accuracy: 0.8130\n",
            "Epoch 33/50\n",
            "782/782 [==============================] - 16s 20ms/step - loss: 0.0026 - accuracy: 0.9994 - val_loss: 1.5448 - val_accuracy: 0.8108\n",
            "Epoch 34/50\n",
            "782/782 [==============================] - 16s 21ms/step - loss: 0.0083 - accuracy: 0.9978 - val_loss: 1.3958 - val_accuracy: 0.8104\n",
            "Epoch 35/50\n",
            "782/782 [==============================] - 16s 20ms/step - loss: 0.0065 - accuracy: 0.9980 - val_loss: 1.4169 - val_accuracy: 0.8108\n",
            "Epoch 36/50\n",
            "782/782 [==============================] - 16s 20ms/step - loss: 0.0047 - accuracy: 0.9985 - val_loss: 1.3672 - val_accuracy: 0.8086\n",
            "Epoch 37/50\n",
            "782/782 [==============================] - 16s 20ms/step - loss: 0.0111 - accuracy: 0.9964 - val_loss: 1.3319 - val_accuracy: 0.8109\n",
            "Epoch 38/50\n",
            "782/782 [==============================] - 16s 20ms/step - loss: 0.0019 - accuracy: 0.9995 - val_loss: 1.3854 - val_accuracy: 0.8107\n",
            "Epoch 39/50\n",
            "782/782 [==============================] - 16s 20ms/step - loss: 0.0019 - accuracy: 0.9993 - val_loss: 1.5269 - val_accuracy: 0.8126\n",
            "Epoch 40/50\n",
            "782/782 [==============================] - 16s 20ms/step - loss: 1.9571e-04 - accuracy: 1.0000 - val_loss: 1.6890 - val_accuracy: 0.8116\n",
            "Epoch 41/50\n",
            "782/782 [==============================] - 16s 20ms/step - loss: 7.0636e-05 - accuracy: 1.0000 - val_loss: 1.7498 - val_accuracy: 0.8134\n",
            "Epoch 42/50\n",
            "782/782 [==============================] - 16s 20ms/step - loss: 0.0166 - accuracy: 0.9949 - val_loss: 1.2873 - val_accuracy: 0.8105\n",
            "Epoch 43/50\n",
            "782/782 [==============================] - 16s 20ms/step - loss: 0.0051 - accuracy: 0.9984 - val_loss: 1.3649 - val_accuracy: 0.8124\n",
            "Epoch 44/50\n",
            "782/782 [==============================] - 16s 20ms/step - loss: 0.0043 - accuracy: 0.9988 - val_loss: 1.4153 - val_accuracy: 0.8123\n",
            "Epoch 45/50\n",
            "782/782 [==============================] - 16s 20ms/step - loss: 0.0047 - accuracy: 0.9985 - val_loss: 1.3579 - val_accuracy: 0.8108\n",
            "Epoch 46/50\n",
            "782/782 [==============================] - 16s 21ms/step - loss: 6.8874e-04 - accuracy: 0.9998 - val_loss: 1.5288 - val_accuracy: 0.8118\n",
            "Epoch 47/50\n",
            "782/782 [==============================] - 16s 21ms/step - loss: 1.0445e-04 - accuracy: 1.0000 - val_loss: 1.6157 - val_accuracy: 0.8126\n",
            "Epoch 48/50\n",
            "782/782 [==============================] - 16s 20ms/step - loss: 4.0406e-05 - accuracy: 1.0000 - val_loss: 1.7133 - val_accuracy: 0.8117\n",
            "Epoch 49/50\n",
            "782/782 [==============================] - 16s 20ms/step - loss: 2.5060e-05 - accuracy: 1.0000 - val_loss: 1.7911 - val_accuracy: 0.8118\n",
            "Epoch 50/50\n",
            "782/782 [==============================] - 16s 20ms/step - loss: 1.6448e-05 - accuracy: 1.0000 - val_loss: 1.8677 - val_accuracy: 0.8118\n"
          ],
          "name": "stdout"
        }
      ]
    },
    {
      "cell_type": "code",
      "metadata": {
        "id": "rs8aUNR0H2hO",
        "colab": {
          "base_uri": "https://localhost:8080/",
          "height": 541
        },
        "outputId": "9f4c86cb-035d-4607-bb7a-19fef78dab6e"
      },
      "source": [
        "plot_graphs(history2, 'accuracy')\n",
        "plot_graphs(history2, 'loss')"
      ],
      "execution_count": null,
      "outputs": [
        {
          "output_type": "display_data",
          "data": {
            "image/png": "[encoded data removed]",
            "text/plain": [
              "<Figure size 432x288 with 1 Axes>"
            ]
          },
          "metadata": {
            "tags": [],
            "needs_background": "light"
          }
        },
        {
          "output_type": "display_data",
          "data": {
            "image/png": "[encoded data removed]",
            "text/plain": [
              "<Figure size 432x288 with 1 Axes>"
            ]
          },
          "metadata": {
            "tags": [],
            "needs_background": "light"
          }
        }
      ]
    },
    {
      "cell_type": "markdown",
      "metadata": {
        "id": "zKoNXOQfIEkq"
      },
      "source": [
        "# Conv1D"
      ]
    },
    {
      "cell_type": "code",
      "metadata": {
        "id": "K_Jc7cY3Qxke",
        "colab": {
          "base_uri": "https://localhost:8080/"
        },
        "outputId": "fd3ccf3f-da79-437e-e68c-cbdc74e2418e"
      },
      "source": [
        "# Model Definition with Conv1D\n",
        "model3 = tf.keras.Sequential([\n",
        "    tf.keras.layers.Embedding(vocab_size, embedding_dim, input_length=max_length),\n",
        "    tf.keras.layers.Conv1D(128, 5, activation='relu'),\n",
        "    tf.keras.layers.GlobalAveragePooling1D(),\n",
        "    tf.keras.layers.Dense(6, activation='relu'),\n",
        "    tf.keras.layers.Dense(1, activation='sigmoid')\n",
        "])\n",
        "model3.compile(loss='binary_crossentropy',optimizer='adam',metrics=['accuracy'])\n",
        "model3.summary()\n"
      ],
      "execution_count": null,
      "outputs": [
        {
          "output_type": "stream",
          "text": [
            "Model: \"sequential_2\"\n",
            "_________________________________________________________________\n",
            "Layer (type)                 Output Shape              Param #   \n",
            "=================================================================\n",
            "embedding_2 (Embedding)      (None, 120, 16)           160000    \n",
            "_________________________________________________________________\n",
            "conv1d (Conv1D)              (None, 116, 128)          10368     \n",
            "_________________________________________________________________\n",
            "global_average_pooling1d (Gl (None, 128)               0         \n",
            "_________________________________________________________________\n",
            "dense_4 (Dense)              (None, 6)                 774       \n",
            "_________________________________________________________________\n",
            "dense_5 (Dense)              (None, 1)                 7         \n",
            "=================================================================\n",
            "Total params: 171,149\n",
            "Trainable params: 171,149\n",
            "Non-trainable params: 0\n",
            "_________________________________________________________________\n"
          ],
          "name": "stdout"
        }
      ]
    },
    {
      "cell_type": "code",
      "metadata": {
        "id": "QgR9Ezv1IRVF",
        "colab": {
          "base_uri": "https://localhost:8080/"
        },
        "outputId": "4f51dc67-a66d-42e4-c012-93e690279fbe"
      },
      "source": [
        "num_epochs = 50\n",
        "history3 = model3.fit(padded, training_labels_final, epochs=num_epochs, validation_data=(testing_padded, testing_labels_final))"
      ],
      "execution_count": null,
      "outputs": [
        {
          "output_type": "stream",
          "text": [
            "Epoch 1/50\n",
            "782/782 [==============================] - 6s 8ms/step - loss: 0.4404 - accuracy: 0.7851 - val_loss: 0.3532 - val_accuracy: 0.8463\n",
            "Epoch 2/50\n",
            "782/782 [==============================] - 6s 7ms/step - loss: 0.2795 - accuracy: 0.8873 - val_loss: 0.3517 - val_accuracy: 0.8478\n",
            "Epoch 3/50\n",
            "782/782 [==============================] - 6s 8ms/step - loss: 0.2286 - accuracy: 0.9102 - val_loss: 0.3762 - val_accuracy: 0.8415\n",
            "Epoch 4/50\n",
            "782/782 [==============================] - 6s 8ms/step - loss: 0.1894 - accuracy: 0.9264 - val_loss: 0.4172 - val_accuracy: 0.8335\n",
            "Epoch 5/50\n",
            "782/782 [==============================] - 6s 7ms/step - loss: 0.1549 - accuracy: 0.9455 - val_loss: 0.4621 - val_accuracy: 0.8246\n",
            "Epoch 6/50\n",
            "782/782 [==============================] - 6s 8ms/step - loss: 0.1263 - accuracy: 0.9583 - val_loss: 0.5360 - val_accuracy: 0.8212\n",
            "Epoch 7/50\n",
            "782/782 [==============================] - 6s 8ms/step - loss: 0.1013 - accuracy: 0.9670 - val_loss: 0.6180 - val_accuracy: 0.8121\n",
            "Epoch 8/50\n",
            "782/782 [==============================] - 6s 8ms/step - loss: 0.0789 - accuracy: 0.9762 - val_loss: 0.6818 - val_accuracy: 0.8117\n",
            "Epoch 9/50\n",
            "782/782 [==============================] - 6s 8ms/step - loss: 0.0617 - accuracy: 0.9823 - val_loss: 0.7961 - val_accuracy: 0.8051\n",
            "Epoch 10/50\n",
            "782/782 [==============================] - 6s 8ms/step - loss: 0.0495 - accuracy: 0.9861 - val_loss: 0.9089 - val_accuracy: 0.8041\n",
            "Epoch 11/50\n",
            "782/782 [==============================] - 6s 8ms/step - loss: 0.0393 - accuracy: 0.9893 - val_loss: 0.9806 - val_accuracy: 0.8056\n",
            "Epoch 12/50\n",
            "782/782 [==============================] - 6s 8ms/step - loss: 0.0320 - accuracy: 0.9915 - val_loss: 1.1031 - val_accuracy: 0.8001\n",
            "Epoch 13/50\n",
            "782/782 [==============================] - 6s 8ms/step - loss: 0.0252 - accuracy: 0.9932 - val_loss: 1.1931 - val_accuracy: 0.7998\n",
            "Epoch 14/50\n",
            "782/782 [==============================] - 6s 8ms/step - loss: 0.0202 - accuracy: 0.9943 - val_loss: 1.3730 - val_accuracy: 0.8012\n",
            "Epoch 15/50\n",
            "782/782 [==============================] - 6s 7ms/step - loss: 0.0183 - accuracy: 0.9948 - val_loss: 1.4230 - val_accuracy: 0.7998\n",
            "Epoch 16/50\n",
            "782/782 [==============================] - 6s 7ms/step - loss: 0.0217 - accuracy: 0.9929 - val_loss: 1.4395 - val_accuracy: 0.7962\n",
            "Epoch 17/50\n",
            "782/782 [==============================] - 6s 8ms/step - loss: 0.0166 - accuracy: 0.9948 - val_loss: 1.5623 - val_accuracy: 0.7977\n",
            "Epoch 18/50\n",
            "782/782 [==============================] - 6s 8ms/step - loss: 0.0084 - accuracy: 0.9979 - val_loss: 1.6330 - val_accuracy: 0.7964\n",
            "Epoch 19/50\n",
            "782/782 [==============================] - 6s 7ms/step - loss: 0.0053 - accuracy: 0.9988 - val_loss: 1.7457 - val_accuracy: 0.7968\n",
            "Epoch 20/50\n",
            "782/782 [==============================] - 6s 8ms/step - loss: 0.0110 - accuracy: 0.9966 - val_loss: 1.7373 - val_accuracy: 0.7905\n",
            "Epoch 21/50\n",
            "782/782 [==============================] - 6s 8ms/step - loss: 0.0197 - accuracy: 0.9930 - val_loss: 1.7394 - val_accuracy: 0.7964\n",
            "Epoch 22/50\n",
            "782/782 [==============================] - 6s 8ms/step - loss: 0.0095 - accuracy: 0.9968 - val_loss: 1.8227 - val_accuracy: 0.7992\n",
            "Epoch 23/50\n",
            "782/782 [==============================] - 6s 7ms/step - loss: 0.0053 - accuracy: 0.9985 - val_loss: 1.8522 - val_accuracy: 0.7944\n",
            "Epoch 24/50\n",
            "782/782 [==============================] - 6s 7ms/step - loss: 0.0032 - accuracy: 0.9991 - val_loss: 1.9537 - val_accuracy: 0.7955\n",
            "Epoch 25/50\n",
            "782/782 [==============================] - 6s 8ms/step - loss: 0.0032 - accuracy: 0.9991 - val_loss: 2.2088 - val_accuracy: 0.7974\n",
            "Epoch 26/50\n",
            "782/782 [==============================] - 6s 8ms/step - loss: 0.0068 - accuracy: 0.9979 - val_loss: 2.0971 - val_accuracy: 0.7972\n",
            "Epoch 27/50\n",
            "782/782 [==============================] - 6s 8ms/step - loss: 0.0127 - accuracy: 0.9961 - val_loss: 2.1174 - val_accuracy: 0.7940\n",
            "Epoch 28/50\n",
            "782/782 [==============================] - 6s 8ms/step - loss: 0.0052 - accuracy: 0.9980 - val_loss: 2.1778 - val_accuracy: 0.7937\n",
            "Epoch 29/50\n",
            "782/782 [==============================] - 6s 7ms/step - loss: 0.0050 - accuracy: 0.9983 - val_loss: 2.2622 - val_accuracy: 0.7997\n",
            "Epoch 30/50\n",
            "782/782 [==============================] - 6s 8ms/step - loss: 0.0026 - accuracy: 0.9992 - val_loss: 2.3344 - val_accuracy: 0.7989\n",
            "Epoch 31/50\n",
            "782/782 [==============================] - 6s 8ms/step - loss: 6.7439e-04 - accuracy: 0.9999 - val_loss: 2.3358 - val_accuracy: 0.7966\n",
            "Epoch 32/50\n",
            "782/782 [==============================] - 6s 8ms/step - loss: 1.1609e-04 - accuracy: 1.0000 - val_loss: 2.3911 - val_accuracy: 0.7973\n",
            "Epoch 33/50\n",
            "782/782 [==============================] - 6s 8ms/step - loss: 6.4792e-05 - accuracy: 1.0000 - val_loss: 2.4476 - val_accuracy: 0.7979\n",
            "Epoch 34/50\n",
            "782/782 [==============================] - 6s 8ms/step - loss: 4.5034e-05 - accuracy: 1.0000 - val_loss: 2.5162 - val_accuracy: 0.7989\n",
            "Epoch 35/50\n",
            "782/782 [==============================] - 6s 8ms/step - loss: 3.2338e-05 - accuracy: 1.0000 - val_loss: 2.5779 - val_accuracy: 0.7990\n",
            "Epoch 36/50\n",
            "782/782 [==============================] - 6s 8ms/step - loss: 2.1696e-05 - accuracy: 1.0000 - val_loss: 2.6359 - val_accuracy: 0.7994\n",
            "Epoch 37/50\n",
            "782/782 [==============================] - 6s 8ms/step - loss: 1.5790e-05 - accuracy: 1.0000 - val_loss: 2.7078 - val_accuracy: 0.7992\n",
            "Epoch 38/50\n",
            "782/782 [==============================] - 6s 8ms/step - loss: 1.1369e-05 - accuracy: 1.0000 - val_loss: 2.7770 - val_accuracy: 0.7990\n",
            "Epoch 39/50\n",
            "782/782 [==============================] - 6s 8ms/step - loss: 7.4355e-06 - accuracy: 1.0000 - val_loss: 2.8522 - val_accuracy: 0.7990\n",
            "Epoch 40/50\n",
            "782/782 [==============================] - 6s 8ms/step - loss: 4.9422e-06 - accuracy: 1.0000 - val_loss: 2.9414 - val_accuracy: 0.7988\n",
            "Epoch 41/50\n",
            "782/782 [==============================] - 7s 8ms/step - loss: 3.4270e-06 - accuracy: 1.0000 - val_loss: 3.0137 - val_accuracy: 0.7989\n",
            "Epoch 42/50\n",
            "782/782 [==============================] - 6s 8ms/step - loss: 2.3624e-06 - accuracy: 1.0000 - val_loss: 3.0967 - val_accuracy: 0.7989\n",
            "Epoch 43/50\n",
            "782/782 [==============================] - 6s 7ms/step - loss: 1.5650e-06 - accuracy: 1.0000 - val_loss: 3.1779 - val_accuracy: 0.7993\n",
            "Epoch 44/50\n",
            "782/782 [==============================] - 6s 8ms/step - loss: 1.0550e-06 - accuracy: 1.0000 - val_loss: 3.2653 - val_accuracy: 0.7996\n",
            "Epoch 45/50\n",
            "782/782 [==============================] - 6s 8ms/step - loss: 6.8591e-07 - accuracy: 1.0000 - val_loss: 3.3550 - val_accuracy: 0.7996\n",
            "Epoch 46/50\n",
            "782/782 [==============================] - 6s 8ms/step - loss: 4.7506e-07 - accuracy: 1.0000 - val_loss: 3.4361 - val_accuracy: 0.7994\n",
            "Epoch 47/50\n",
            "782/782 [==============================] - 6s 8ms/step - loss: 3.1860e-07 - accuracy: 1.0000 - val_loss: 3.5276 - val_accuracy: 0.7998\n",
            "Epoch 48/50\n",
            "782/782 [==============================] - 6s 8ms/step - loss: 2.1182e-07 - accuracy: 1.0000 - val_loss: 3.6118 - val_accuracy: 0.7997\n",
            "Epoch 49/50\n",
            "782/782 [==============================] - 6s 8ms/step - loss: 1.4619e-07 - accuracy: 1.0000 - val_loss: 3.6952 - val_accuracy: 0.8002\n",
            "Epoch 50/50\n",
            "782/782 [==============================] - 6s 8ms/step - loss: 1.0009e-07 - accuracy: 1.0000 - val_loss: 3.7758 - val_accuracy: 0.7998\n"
          ],
          "name": "stdout"
        }
      ]
    },
    {
      "cell_type": "code",
      "metadata": {
        "id": "yIM3XPhcIRom",
        "colab": {
          "base_uri": "https://localhost:8080/",
          "height": 541
        },
        "outputId": "86644d39-48a1-4252-8692-1ad3a333c089"
      },
      "source": [
        "plot_graphs(history3, 'accuracy')\n",
        "plot_graphs(history3, 'loss')"
      ],
      "execution_count": null,
      "outputs": [
        {
          "output_type": "display_data",
          "data": {
            "image/png": "[encoded data removed]",
            "text/plain": [
              "<Figure size 432x288 with 1 Axes>"
            ]
          },
          "metadata": {
            "tags": [],
            "needs_background": "light"
          }
        },
        {
          "output_type": "display_data",
          "data": {
            "image/png": "[encoded data removed]",
            "text/plain": [
              "<Figure size 432x288 with 1 Axes>"
            ]
          },
          "metadata": {
            "tags": [],
            "needs_background": "light"
          }
        }
      ]
    },
    {
      "cell_type": "markdown",
      "metadata": {
        "id": "CSA0q9QgNGKm"
      },
      "source": [
        "# Simple Embedding + Dense\n"
      ]
    },
    {
      "cell_type": "code",
      "metadata": {
        "id": "1Dvyu0upNJg9",
        "colab": {
          "base_uri": "https://localhost:8080/"
        },
        "outputId": "73982d5b-9569-43a9-ec8b-c8b423b90fc3"
      },
      "source": [
        "model4 = tf.keras.Sequential([\n",
        "    tf.keras.layers.Embedding(vocab_size, embedding_dim, input_length=max_length),\n",
        "    tf.keras.layers.Flatten(),\n",
        "    tf.keras.layers.Dense(6, activation='relu'),\n",
        "    tf.keras.layers.Dense(1, activation='sigmoid')\n",
        "])\n",
        "model4.compile(loss='binary_crossentropy',optimizer='adam',metrics=['accuracy'])\n",
        "model4.summary()"
      ],
      "execution_count": null,
      "outputs": [
        {
          "output_type": "stream",
          "text": [
            "Model: \"sequential_3\"\n",
            "_________________________________________________________________\n",
            "Layer (type)                 Output Shape              Param #   \n",
            "=================================================================\n",
            "embedding_3 (Embedding)      (None, 120, 16)           160000    \n",
            "_________________________________________________________________\n",
            "flatten (Flatten)            (None, 1920)              0         \n",
            "_________________________________________________________________\n",
            "dense_6 (Dense)              (None, 6)                 11526     \n",
            "_________________________________________________________________\n",
            "dense_7 (Dense)              (None, 1)                 7         \n",
            "=================================================================\n",
            "Total params: 171,533\n",
            "Trainable params: 171,533\n",
            "Non-trainable params: 0\n",
            "_________________________________________________________________\n"
          ],
          "name": "stdout"
        }
      ]
    },
    {
      "cell_type": "code",
      "metadata": {
        "id": "GzlywdInNWKA",
        "colab": {
          "base_uri": "https://localhost:8080/"
        },
        "outputId": "d74b0e66-c2f9-4e92-85ee-a321951ac625"
      },
      "source": [
        "num_epochs = 20\n",
        "history4 = model4.fit(padded, training_labels_final, epochs=num_epochs, validation_data=(testing_padded, testing_labels_final))"
      ],
      "execution_count": null,
      "outputs": [
        {
          "output_type": "stream",
          "text": [
            "Epoch 1/20\n",
            "782/782 [==============================] - 5s 7ms/step - loss: 0.4924 - accuracy: 0.7435 - val_loss: 0.3467 - val_accuracy: 0.8467\n",
            "Epoch 2/20\n",
            "782/782 [==============================] - 5s 6ms/step - loss: 0.2310 - accuracy: 0.9095 - val_loss: 0.3796 - val_accuracy: 0.8328\n",
            "Epoch 3/20\n",
            "782/782 [==============================] - 5s 6ms/step - loss: 0.0808 - accuracy: 0.9813 - val_loss: 0.4622 - val_accuracy: 0.8232\n",
            "Epoch 4/20\n",
            "782/782 [==============================] - 5s 6ms/step - loss: 0.0181 - accuracy: 0.9978 - val_loss: 0.5375 - val_accuracy: 0.8214\n",
            "Epoch 5/20\n",
            "782/782 [==============================] - 5s 6ms/step - loss: 0.0040 - accuracy: 0.9999 - val_loss: 0.5897 - val_accuracy: 0.8238\n",
            "Epoch 6/20\n",
            "782/782 [==============================] - 5s 6ms/step - loss: 0.0015 - accuracy: 1.0000 - val_loss: 0.6388 - val_accuracy: 0.8240\n",
            "Epoch 7/20\n",
            "782/782 [==============================] - 5s 6ms/step - loss: 7.7573e-04 - accuracy: 1.0000 - val_loss: 0.6762 - val_accuracy: 0.8254\n",
            "Epoch 8/20\n",
            "782/782 [==============================] - 5s 6ms/step - loss: 4.2983e-04 - accuracy: 1.0000 - val_loss: 0.7155 - val_accuracy: 0.8259\n",
            "Epoch 9/20\n",
            "782/782 [==============================] - 5s 6ms/step - loss: 2.5162e-04 - accuracy: 1.0000 - val_loss: 0.7504 - val_accuracy: 0.8260\n",
            "Epoch 10/20\n",
            "782/782 [==============================] - 5s 6ms/step - loss: 1.5243e-04 - accuracy: 1.0000 - val_loss: 0.7861 - val_accuracy: 0.8263\n",
            "Epoch 11/20\n",
            "782/782 [==============================] - 5s 6ms/step - loss: 9.1614e-05 - accuracy: 1.0000 - val_loss: 0.8208 - val_accuracy: 0.8260\n",
            "Epoch 12/20\n",
            "782/782 [==============================] - 5s 6ms/step - loss: 5.7445e-05 - accuracy: 1.0000 - val_loss: 0.8561 - val_accuracy: 0.8257\n",
            "Epoch 13/20\n",
            "782/782 [==============================] - 5s 6ms/step - loss: 3.5689e-05 - accuracy: 1.0000 - val_loss: 0.8881 - val_accuracy: 0.8265\n",
            "Epoch 14/20\n",
            "782/782 [==============================] - 5s 6ms/step - loss: 2.2609e-05 - accuracy: 1.0000 - val_loss: 0.9226 - val_accuracy: 0.8262\n",
            "Epoch 15/20\n",
            "782/782 [==============================] - 5s 6ms/step - loss: 1.4183e-05 - accuracy: 1.0000 - val_loss: 0.9547 - val_accuracy: 0.8264\n",
            "Epoch 16/20\n",
            "782/782 [==============================] - 5s 6ms/step - loss: 9.0714e-06 - accuracy: 1.0000 - val_loss: 0.9885 - val_accuracy: 0.8257\n",
            "Epoch 17/20\n",
            "782/782 [==============================] - 5s 6ms/step - loss: 5.7774e-06 - accuracy: 1.0000 - val_loss: 1.0202 - val_accuracy: 0.8262\n",
            "Epoch 18/20\n",
            "782/782 [==============================] - 5s 6ms/step - loss: 3.7013e-06 - accuracy: 1.0000 - val_loss: 1.0528 - val_accuracy: 0.8260\n",
            "Epoch 19/20\n",
            "782/782 [==============================] - 5s 6ms/step - loss: 2.3837e-06 - accuracy: 1.0000 - val_loss: 1.0856 - val_accuracy: 0.8262\n",
            "Epoch 20/20\n",
            "782/782 [==============================] - 5s 6ms/step - loss: 1.5388e-06 - accuracy: 1.0000 - val_loss: 1.1177 - val_accuracy: 0.8260\n"
          ],
          "name": "stdout"
        }
      ]
    },
    {
      "cell_type": "code",
      "metadata": {
        "id": "er_GIVsKNWcf",
        "colab": {
          "base_uri": "https://localhost:8080/",
          "height": 541
        },
        "outputId": "311f6c68-68c9-49cd-bf60-9753b64bc676"
      },
      "source": [
        "plot_graphs(history4, 'accuracy')\n",
        "plot_graphs(history4, 'loss')"
      ],
      "execution_count": null,
      "outputs": [
        {
          "output_type": "display_data",
          "data": {
            "image/png": "[encoded data removed]",
            "text/plain": [
              "<Figure size 432x288 with 1 Axes>"
            ]
          },
          "metadata": {
            "tags": [],
            "needs_background": "light"
          }
        },
        {
          "output_type": "display_data",
          "data": {
            "image/png": "[encoded data removed]",
            "text/plain": [
              "<Figure size 432x288 with 1 Axes>"
            ]
          },
          "metadata": {
            "tags": [],
            "needs_background": "light"
          }
        }
      ]
    },
    {
      "cell_type": "code",
      "metadata": {
        "id": "6OWmSz1XO5qA"
      },
      "source": [
        ""
      ],
      "execution_count": null,
      "outputs": []
    }
  ]
}