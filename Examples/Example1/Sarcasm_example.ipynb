{
 "cells": [
  {
   "cell_type": "markdown",
   "metadata": {
    "id": "zX4Kg8DUTKWO"
   },
   "source": [
    "# Imports"
   ]
  },
  {
   "cell_type": "code",
   "execution_count": 1,
   "metadata": {
    "id": "XYYDvoskkE61"
   },
   "outputs": [],
   "source": [
    "%matplotlib inline\n",
    "import json\n",
    "import tensorflow as tf\n",
    "import pandas as pd \n",
    "\n",
    "from tensorflow.keras.preprocessing.text import Tokenizer\n",
    "from tensorflow.keras.preprocessing.sequence import pad_sequences"
   ]
  },
  {
   "cell_type": "markdown",
   "metadata": {},
   "source": [
    "# Hyperparameters"
   ]
  },
  {
   "cell_type": "code",
   "execution_count": 2,
   "metadata": {
    "id": "0eJSTTYnkJQd"
   },
   "outputs": [],
   "source": [
    "vocab_size = 10000\n",
    "embedding_dim = 16\n",
    "max_length = 100\n",
    "trunc_type='post'\n",
    "padding_type='post'\n",
    "oov_tok = \"<OOV>\"\n",
    "training_size = 20000"
   ]
  },
  {
   "cell_type": "markdown",
   "metadata": {},
   "source": [
    "# Load data"
   ]
  },
  {
   "cell_type": "code",
   "execution_count": 3,
   "metadata": {
    "id": "oaLaaqhNkUPd"
   },
   "outputs": [],
   "source": [
    "df = pd.read_json('Sarcasm_Headlines_Dataset_v2.json', lines=True)\n",
    "\n",
    "sentences = df['headline']\n",
    "labels = df['is_sarcastic']"
   ]
  },
  {
   "cell_type": "code",
   "execution_count": 4,
   "metadata": {
    "id": "S1sD-7v0kYWk"
   },
   "outputs": [],
   "source": [
    "training_sentences = sentences[0:training_size]\n",
    "testing_sentences = sentences[training_size:]\n",
    "training_labels = labels[0:training_size]\n",
    "testing_labels = labels[training_size:]"
   ]
  },
  {
   "cell_type": "code",
   "execution_count": 5,
   "metadata": {
    "id": "3u8UB0MCkZ5N"
   },
   "outputs": [],
   "source": [
    "tokenizer = Tokenizer(num_words=vocab_size, oov_token=oov_tok)\n",
    "tokenizer.fit_on_texts(training_sentences)\n",
    "\n",
    "word_index = tokenizer.word_index\n",
    "\n",
    "training_sequences = tokenizer.texts_to_sequences(training_sentences)\n",
    "training_padded = pad_sequences(training_sequences, maxlen=max_length, padding=padding_type, truncating=trunc_type)\n",
    "\n",
    "testing_sequences = tokenizer.texts_to_sequences(testing_sentences)\n",
    "testing_padded = pad_sequences(testing_sequences, maxlen=max_length, padding=padding_type, truncating=trunc_type)"
   ]
  },
  {
   "cell_type": "code",
   "execution_count": 6,
   "metadata": {
    "id": "GrAlWBKf99Ya"
   },
   "outputs": [],
   "source": [
    "# Need this block to get it to work with TensorFlow 2.x\n",
    "import numpy as np\n",
    "training_padded = np.array(training_padded)\n",
    "training_labels = np.array(training_labels)\n",
    "testing_padded = np.array(testing_padded)\n",
    "testing_labels = np.array(testing_labels)"
   ]
  },
  {
   "cell_type": "markdown",
   "metadata": {},
   "source": [
    "# Model Training"
   ]
  },
  {
   "cell_type": "code",
   "execution_count": 7,
   "metadata": {
    "id": "FufaT4vlkiDE"
   },
   "outputs": [],
   "source": [
    "model = tf.keras.Sequential([\n",
    "    tf.keras.layers.Embedding(vocab_size, embedding_dim, input_length=max_length),\n",
    "    tf.keras.layers.GlobalAveragePooling1D(),\n",
    "    tf.keras.layers.Dense(24, activation='relu'),\n",
    "    tf.keras.layers.Dense(1, activation='sigmoid')\n",
    "])\n",
    "model.compile(loss='binary_crossentropy',optimizer='adam',metrics=['accuracy'])"
   ]
  },
  {
   "cell_type": "code",
   "execution_count": 8,
   "metadata": {
    "colab": {
     "base_uri": "https://localhost:8080/",
     "height": 289
    },
    "id": "XfDt1hmYkiys",
    "outputId": "eee0c09d-c5ba-41f9-fb34-5d6d84ffc63e"
   },
   "outputs": [
    {
     "name": "stdout",
     "output_type": "stream",
     "text": [
      "Model: \"sequential\"\n",
      "_________________________________________________________________\n",
      "Layer (type)                 Output Shape              Param #   \n",
      "=================================================================\n",
      "embedding (Embedding)        (None, 100, 16)           160000    \n",
      "_________________________________________________________________\n",
      "global_average_pooling1d (Gl (None, 16)                0         \n",
      "_________________________________________________________________\n",
      "dense (Dense)                (None, 24)                408       \n",
      "_________________________________________________________________\n",
      "dense_1 (Dense)              (None, 1)                 25        \n",
      "=================================================================\n",
      "Total params: 160,433\n",
      "Trainable params: 160,433\n",
      "Non-trainable params: 0\n",
      "_________________________________________________________________\n"
     ]
    }
   ],
   "source": [
    "model.summary()"
   ]
  },
  {
   "cell_type": "code",
   "execution_count": 9,
   "metadata": {
    "colab": {
     "base_uri": "https://localhost:8080/",
     "height": 1000
    },
    "id": "2DTKQFf1kkyc",
    "outputId": "25d44df4-49e8-458a-c615-5fc684672151"
   },
   "outputs": [
    {
     "name": "stdout",
     "output_type": "stream",
     "text": [
      "Epoch 1/30\n",
      "625/625 - 2s - loss: 0.6449 - accuracy: 0.6366 - val_loss: 0.4979 - val_accuracy: 0.8043\n",
      "Epoch 2/30\n",
      "625/625 - 2s - loss: 0.3906 - accuracy: 0.8406 - val_loss: 0.3596 - val_accuracy: 0.8463\n",
      "Epoch 3/30\n",
      "625/625 - 2s - loss: 0.2971 - accuracy: 0.8810 - val_loss: 0.3492 - val_accuracy: 0.8439\n",
      "Epoch 4/30\n",
      "625/625 - 2s - loss: 0.2477 - accuracy: 0.9044 - val_loss: 0.3305 - val_accuracy: 0.8582\n",
      "Epoch 5/30\n",
      "625/625 - 2s - loss: 0.2134 - accuracy: 0.9182 - val_loss: 0.3327 - val_accuracy: 0.8568\n",
      "Epoch 6/30\n",
      "625/625 - 2s - loss: 0.1874 - accuracy: 0.9301 - val_loss: 0.3444 - val_accuracy: 0.8537\n",
      "Epoch 7/30\n",
      "625/625 - 2s - loss: 0.1674 - accuracy: 0.9387 - val_loss: 0.3709 - val_accuracy: 0.8460\n",
      "Epoch 8/30\n",
      "625/625 - 2s - loss: 0.1480 - accuracy: 0.9468 - val_loss: 0.3787 - val_accuracy: 0.8462\n",
      "Epoch 9/30\n",
      "625/625 - 2s - loss: 0.1346 - accuracy: 0.9525 - val_loss: 0.3992 - val_accuracy: 0.8446\n",
      "Epoch 10/30\n",
      "625/625 - 2s - loss: 0.1219 - accuracy: 0.9567 - val_loss: 0.4220 - val_accuracy: 0.8397\n",
      "Epoch 11/30\n",
      "625/625 - 2s - loss: 0.1124 - accuracy: 0.9601 - val_loss: 0.4481 - val_accuracy: 0.8373\n",
      "Epoch 12/30\n",
      "625/625 - 2s - loss: 0.1035 - accuracy: 0.9635 - val_loss: 0.4728 - val_accuracy: 0.8349\n",
      "Epoch 13/30\n",
      "625/625 - 2s - loss: 0.0935 - accuracy: 0.9691 - val_loss: 0.5001 - val_accuracy: 0.8322\n",
      "Epoch 14/30\n",
      "625/625 - 3s - loss: 0.0835 - accuracy: 0.9726 - val_loss: 0.5332 - val_accuracy: 0.8292\n",
      "Epoch 15/30\n",
      "625/625 - 3s - loss: 0.0762 - accuracy: 0.9761 - val_loss: 0.5651 - val_accuracy: 0.8261\n",
      "Epoch 16/30\n",
      "625/625 - 3s - loss: 0.0697 - accuracy: 0.9779 - val_loss: 0.6124 - val_accuracy: 0.8233\n",
      "Epoch 17/30\n",
      "625/625 - 4s - loss: 0.0644 - accuracy: 0.9801 - val_loss: 0.6687 - val_accuracy: 0.8189\n",
      "Epoch 18/30\n",
      "625/625 - 3s - loss: 0.0588 - accuracy: 0.9822 - val_loss: 0.6711 - val_accuracy: 0.8225\n",
      "Epoch 19/30\n",
      "625/625 - 3s - loss: 0.0571 - accuracy: 0.9820 - val_loss: 0.7077 - val_accuracy: 0.8192\n",
      "Epoch 20/30\n",
      "625/625 - 4s - loss: 0.0479 - accuracy: 0.9865 - val_loss: 0.7484 - val_accuracy: 0.8175\n",
      "Epoch 21/30\n",
      "625/625 - 3s - loss: 0.0473 - accuracy: 0.9861 - val_loss: 0.7827 - val_accuracy: 0.8167\n",
      "Epoch 22/30\n",
      "625/625 - 4s - loss: 0.0422 - accuracy: 0.9872 - val_loss: 0.8246 - val_accuracy: 0.8131\n",
      "Epoch 23/30\n",
      "625/625 - 4s - loss: 0.0380 - accuracy: 0.9902 - val_loss: 0.8465 - val_accuracy: 0.8127\n",
      "Epoch 24/30\n",
      "625/625 - 3s - loss: 0.0359 - accuracy: 0.9894 - val_loss: 0.8880 - val_accuracy: 0.8132\n",
      "Epoch 25/30\n",
      "625/625 - 3s - loss: 0.0321 - accuracy: 0.9909 - val_loss: 0.9223 - val_accuracy: 0.8117\n",
      "Epoch 26/30\n",
      "625/625 - 3s - loss: 0.0293 - accuracy: 0.9919 - val_loss: 0.9687 - val_accuracy: 0.8086\n",
      "Epoch 27/30\n",
      "625/625 - 3s - loss: 0.0290 - accuracy: 0.9920 - val_loss: 1.0211 - val_accuracy: 0.8078\n",
      "Epoch 28/30\n",
      "625/625 - 2s - loss: 0.0275 - accuracy: 0.9916 - val_loss: 1.0517 - val_accuracy: 0.8060\n",
      "Epoch 29/30\n",
      "625/625 - 2s - loss: 0.0240 - accuracy: 0.9931 - val_loss: 1.0963 - val_accuracy: 0.8050\n",
      "Epoch 30/30\n",
      "625/625 - 2s - loss: 0.0214 - accuracy: 0.9948 - val_loss: 1.1343 - val_accuracy: 0.8031\n"
     ]
    }
   ],
   "source": [
    "num_epochs = 30\n",
    "history = model.fit(training_padded, training_labels, epochs=num_epochs, validation_data=(testing_padded, testing_labels), verbose=2)"
   ]
  },
  {
   "cell_type": "code",
   "execution_count": 10,
   "metadata": {
    "colab": {
     "base_uri": "https://localhost:8080/",
     "height": 541
    },
    "id": "2HYfBKXjkmU8",
    "outputId": "f616ac1a-6343-4ce7-e7ae-4b757b7ef775"
   },
   "outputs": [
    {
     "data": {
      "image/png": "[encoded data removed]",
      "text/plain": [
       "<Figure size 432x288 with 1 Axes>"
      ]
     },
     "metadata": {
      "needs_background": "light"
     },
     "output_type": "display_data"
    },
    {
     "data": {
      "image/png": "[encoded data removed]",
      "text/plain": [
       "<Figure size 432x288 with 1 Axes>"
      ]
     },
     "metadata": {
      "needs_background": "light"
     },
     "output_type": "display_data"
    }
   ],
   "source": [
    "import matplotlib.pyplot as plt\n",
    "\n",
    "def plot_graphs(history, string):\n",
    "  plt.plot(history.history[string])\n",
    "  plt.plot(history.history['val_'+string])\n",
    "  plt.xlabel(\"Epochs\")\n",
    "  plt.ylabel(string)\n",
    "  plt.legend([string, 'val_'+string])\n",
    "  plt.show()\n",
    "  \n",
    "plot_graphs(history, \"accuracy\")\n",
    "plot_graphs(history, \"loss\")"
   ]
  },
  {
   "cell_type": "code",
   "execution_count": 11,
   "metadata": {
    "colab": {
     "base_uri": "https://localhost:8080/",
     "height": 88
    },
    "id": "7SBdAZAenvzL",
    "outputId": "a0a9bdc4-79ef-494d-dae2-e6cdea118b16"
   },
   "outputs": [
    {
     "name": "stdout",
     "output_type": "stream",
     "text": [
      "<OOV> scientists unveil doomsday clock of hair loss ? ? ? ? ? ? ? ? ? ? ? ? ? ? ? ? ? ? ? ? ? ? ? ? ? ? ? ? ? ? ? ? ? ? ? ? ? ? ? ? ? ? ? ? ? ? ? ? ? ? ? ? ? ? ? ? ? ? ? ? ? ? ? ? ? ? ? ? ? ? ? ? ? ? ? ? ? ? ? ? ? ? ? ? ? ? ? ? ? ? ? ?\n",
      "eat your veggies: 9 deliciously different recipes\n",
      "0\n"
     ]
    }
   ],
   "source": [
    "reverse_word_index = dict([(value, key) for (key, value) in word_index.items()])\n",
    "\n",
    "def decode_sentence(text):\n",
    "    return ' '.join([reverse_word_index.get(i, '?') for i in text])\n",
    "\n",
    "print(decode_sentence(training_padded[0]))\n",
    "print(training_sentences[2])\n",
    "print(labels[2])"
   ]
  },
  {
   "cell_type": "code",
   "execution_count": 12,
   "metadata": {
    "colab": {
     "base_uri": "https://localhost:8080/",
     "height": 51
    },
    "id": "cG8-ArY-qDcz",
    "outputId": "14ff1cb6-d923-46b8-f7ff-ad5e81a9451a"
   },
   "outputs": [
    {
     "name": "stdout",
     "output_type": "stream",
     "text": [
      "[[5.0574261e-01]\n",
      " [1.6978382e-06]]\n"
     ]
    }
   ],
   "source": [
    "sentence = [\"granny starting to fear spiders in the garden might be real\", \"game of thrones season finale showing this sunday night\"]\n",
    "sequences = tokenizer.texts_to_sequences(sentence)\n",
    "padded = pad_sequences(sequences, maxlen=max_length, padding=padding_type, truncating=trunc_type)\n",
    "print(model.predict(padded))"
   ]
  },
  {
   "cell_type": "code",
   "execution_count": null,
   "metadata": {},
   "outputs": [],
   "source": []
  }
 ],
 "metadata": {
  "accelerator": "GPU",
  "colab": {
   "collapsed_sections": [],
   "name": "Course 3 - Week 2 - Lesson 2.ipynb",
   "provenance": [],
   "toc_visible": true
  },
  "kernelspec": {
   "display_name": "Python 3",
   "language": "python",
   "name": "python3"
  },
  "language_info": {
   "codemirror_mode": {
    "name": "ipython",
    "version": 3
   },
   "file_extension": ".py",
   "mimetype": "text/x-python",
   "name": "python",
   "nbconvert_exporter": "python",
   "pygments_lexer": "ipython3",
   "version": "3.8.5"
  }
 },
 "nbformat": 4,
 "nbformat_minor": 1
}
