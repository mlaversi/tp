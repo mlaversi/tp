{
  "nbformat": 4,
  "nbformat_minor": 0,
  "metadata": {
    "accelerator": "GPU",
    "colab": {
      "name": "NLP_LSTM_B.ipynb",
      "provenance": [],
      "collapsed_sections": [],
      "toc_visible": true
    },
    "kernelspec": {
      "display_name": "Python 3",
      "name": "python3"
    }
  },
  "cells": [
    {
      "cell_type": "markdown",
      "metadata": {
        "id": "rFiCyWQ-NC5D"
      },
      "source": [
        "# Multiple Layer LSTM"
      ]
    },
    {
      "cell_type": "code",
      "metadata": {
        "id": "Y20Lud2ZMBhW",
        "colab": {
          "base_uri": "https://localhost:8080/",
          "height": 34
        },
        "outputId": "a3036b41-d734-417b-ade0-ae1b8bafc762"
      },
      "source": [
        "from __future__ import absolute_import, division, print_function, unicode_literals\n",
        "\n",
        "\n",
        "import tensorflow_datasets as tfds\n",
        "import tensorflow as tf\n",
        "print(tf.__version__)"
      ],
      "execution_count": null,
      "outputs": [
        {
          "output_type": "stream",
          "text": [
            "2.3.0\n"
          ],
          "name": "stdout"
        }
      ]
    },
    {
      "cell_type": "code",
      "metadata": {
        "id": "uAU8g7C0MPZE",
        "colab": {
          "base_uri": "https://localhost:8080/",
          "height": 34
        },
        "outputId": "4b47dd65-d68e-4582-9802-01d55bf83ea6"
      },
      "source": [
        "import tensorflow_datasets as tfds\n",
        "import tensorflow as tf\n",
        "print(tf.__version__)"
      ],
      "execution_count": null,
      "outputs": [
        {
          "output_type": "stream",
          "text": [
            "2.3.0\n"
          ],
          "name": "stdout"
        }
      ]
    },
    {
      "cell_type": "markdown",
      "metadata": {
        "id": "mNcaBBRy53Qe"
      },
      "source": [
        ""
      ]
    },
    {
      "cell_type": "code",
      "metadata": {
        "id": "H4_XW6t054QQ"
      },
      "source": [
        "vocab_size = 10000\n",
        "embedding_dim = 64\n",
        "max_length = 80\n",
        "trunc_type='post'\n",
        "oov_tok = \"<OOV>\""
      ],
      "execution_count": null,
      "outputs": []
    },
    {
      "cell_type": "code",
      "metadata": {
        "id": "3fxwlIAQ56pG"
      },
      "source": [
        "import numpy as np\n",
        "\n",
        "\n",
        "# Get the data\n",
        "imdb, info = tfds.load('imdb_reviews', with_info=True, as_supervised=True)\n",
        "\n",
        "train_data, test_data = imdb['train'], imdb['test']\n",
        "\n",
        "training_sentences = []\n",
        "training_labels = []\n",
        "\n",
        "testing_sentences = []\n",
        "testing_labels = []\n",
        "\n",
        "# str(s.tonumpy()) is needed in Python3 instead of just s.numpy()\n",
        "for s,l in train_data:\n",
        "  training_sentences.append(s.numpy().decode('utf8'))\n",
        "  training_labels.append(l.numpy())\n",
        "  \n",
        "for s,l in test_data:\n",
        "  testing_sentences.append(s.numpy().decode('utf8'))\n",
        "  testing_labels.append(l.numpy())\n",
        "  \n",
        "training_labels_final = np.array(training_labels)\n",
        "testing_labels_final = np.array(testing_labels)\n"
      ],
      "execution_count": null,
      "outputs": []
    },
    {
      "cell_type": "code",
      "metadata": {
        "id": "OF2HvJK658k0"
      },
      "source": [
        "from tensorflow.keras.preprocessing.text import Tokenizer\n",
        "from tensorflow.keras.preprocessing.sequence import pad_sequences\n",
        "\n",
        "tokenizer = Tokenizer(num_words = vocab_size, oov_token=oov_tok)\n",
        "tokenizer.fit_on_texts(training_sentences)\n",
        "word_index = tokenizer.word_index\n",
        "sequences = tokenizer.texts_to_sequences(training_sentences)\n",
        "padded = pad_sequences(sequences,maxlen=max_length, truncating=trunc_type)\n",
        "\n",
        "testing_sequences = tokenizer.texts_to_sequences(testing_sentences)\n",
        "testing_padded = pad_sequences(testing_sequences,maxlen=max_length)"
      ],
      "execution_count": null,
      "outputs": []
    },
    {
      "cell_type": "code",
      "metadata": {
        "id": "9nsyNanE5-xk",
        "colab": {
          "base_uri": "https://localhost:8080/",
          "height": 275
        },
        "outputId": "f156ff96-e3cf-4b3b-f578-1ce6351ac39e"
      },
      "source": [
        "reverse_word_index = dict([(value, key) for (key, value) in word_index.items()])\n",
        "\n",
        "def decode_review(text):\n",
        "    return ' '.join([reverse_word_index.get(i, '?') for i in text])\n",
        "\n",
        "print(decode_review(padded[3]))\n",
        "print(training_sentences[3])\n",
        "print(padded[3])\n",
        "print(testing_padded[3])"
      ],
      "execution_count": null,
      "outputs": [
        {
          "output_type": "stream",
          "text": [
            "this is the kind of film for a snowy sunday afternoon when the rest of the world can go ahead with its own business as you <OOV> into a big arm chair and <OOV> for a couple of hours wonderful performances from cher and nicolas cage as always gently row the plot along there are no <OOV> to cross no dangerous waters just a warm and witty <OOV> through new york life at its best a family film in every\n",
            "This is the kind of film for a snowy Sunday afternoon when the rest of the world can go ahead with its own business as you descend into a big arm-chair and mellow for a couple of hours. Wonderful performances from Cher and Nicolas Cage (as always) gently row the plot along. There are no rapids to cross, no dangerous waters, just a warm and witty paddle through New York life at its best. A family film in every sense and one that deserves the praise it received.\n",
            "[  12    7    2  241    5   20   16    4 8776 2707 2653   52    2  358\n",
            "    5    2  180   68  138 1401   17   92  203  968   15   23    1   81\n",
            "    4  192 3109 3037    3    1   16    4  376    5  632  387  352   37\n",
            " 6355    3 5559 1928   15  208 8596 3433    2  112  365   48   24   55\n",
            "    1    6 1657   55 1818 4312   41    4 2263    3 1908    1  141  160\n",
            "  780  111   31   92  116    4  221   20    9  173]\n",
            "[ 710   45  504   13 1888    5  801 4044   96 6308 7138    4  476  523\n",
            "   32    2   94    3   29    5   59 2630   45   22  346    4  174    6\n",
            "  155   17  131  407    4 2493  400   21   42  136   57 6389   36  109\n",
            " 3732    3  113 2899   96 8424   44    9 7888    1    2  595 2089 9652\n",
            "    1   31   13  559   11  695   49   11   14    9   16    3    2   20\n",
            "   14    4    1 7983   37   48    8    8 1240 1145]\n"
          ],
          "name": "stdout"
        }
      ]
    },
    {
      "cell_type": "code",
      "metadata": {
        "id": "jo1jjO3vn0jo"
      },
      "source": [
        "model = tf.keras.Sequential([\n",
        "    tf.keras.layers.Embedding(vocab_size, embedding_dim),\n",
        "    tf.keras.layers.Bidirectional(tf.keras.layers.LSTM(64, return_sequences=True)),\n",
        "    tf.keras.layers.Bidirectional(tf.keras.layers.LSTM(32)),\n",
        "    tf.keras.layers.Dense(64, activation='relu'),\n",
        "    tf.keras.layers.Dense(1, activation='sigmoid')\n",
        "])"
      ],
      "execution_count": null,
      "outputs": []
    },
    {
      "cell_type": "code",
      "metadata": {
        "id": "QKI5dfPgMioL",
        "colab": {
          "base_uri": "https://localhost:8080/",
          "height": 323
        },
        "outputId": "219e4848-b15d-4035-99a4-4226f4d91cca"
      },
      "source": [
        "model.summary()"
      ],
      "execution_count": null,
      "outputs": [
        {
          "output_type": "stream",
          "text": [
            "Model: \"sequential_3\"\n",
            "_________________________________________________________________\n",
            "Layer (type)                 Output Shape              Param #   \n",
            "=================================================================\n",
            "embedding_3 (Embedding)      (None, None, 64)          640000    \n",
            "_________________________________________________________________\n",
            "bidirectional_6 (Bidirection (None, None, 128)         66048     \n",
            "_________________________________________________________________\n",
            "bidirectional_7 (Bidirection (None, 64)                41216     \n",
            "_________________________________________________________________\n",
            "dense_6 (Dense)              (None, 64)                4160      \n",
            "_________________________________________________________________\n",
            "dense_7 (Dense)              (None, 1)                 65        \n",
            "=================================================================\n",
            "Total params: 751,489\n",
            "Trainable params: 751,489\n",
            "Non-trainable params: 0\n",
            "_________________________________________________________________\n"
          ],
          "name": "stdout"
        }
      ]
    },
    {
      "cell_type": "code",
      "metadata": {
        "id": "Uip7QOVzMoMq"
      },
      "source": [
        "model.compile(loss='binary_crossentropy', optimizer='adam', metrics=['accuracy'])"
      ],
      "execution_count": null,
      "outputs": []
    },
    {
      "cell_type": "code",
      "metadata": {
        "id": "7mlgzaRDMtF6",
        "colab": {
          "base_uri": "https://localhost:8080/",
          "height": 1000
        },
        "outputId": "da4395d6-bdcd-4c45-c197-d223d67bb973"
      },
      "source": [
        "NUM_EPOCHS = 50\n",
        "history = model.fit(padded, training_labels_final, epochs=NUM_EPOCHS, validation_data=(testing_padded, testing_labels_final))"
      ],
      "execution_count": null,
      "outputs": [
        {
          "output_type": "stream",
          "text": [
            "Epoch 1/50\n",
            "782/782 [==============================] - 22s 28ms/step - loss: 0.4810 - accuracy: 0.7626 - val_loss: 0.4173 - val_accuracy: 0.8084\n",
            "Epoch 2/50\n",
            "782/782 [==============================] - 21s 27ms/step - loss: 0.3283 - accuracy: 0.8625 - val_loss: 0.4341 - val_accuracy: 0.8120\n",
            "Epoch 3/50\n",
            "782/782 [==============================] - 21s 27ms/step - loss: 0.2684 - accuracy: 0.8903 - val_loss: 0.4633 - val_accuracy: 0.7966\n",
            "Epoch 4/50\n",
            "782/782 [==============================] - 21s 27ms/step - loss: 0.2124 - accuracy: 0.9161 - val_loss: 0.5126 - val_accuracy: 0.7848\n",
            "Epoch 5/50\n",
            "782/782 [==============================] - 21s 27ms/step - loss: 0.1469 - accuracy: 0.9460 - val_loss: 0.5640 - val_accuracy: 0.7796\n",
            "Epoch 6/50\n",
            "782/782 [==============================] - 21s 27ms/step - loss: 0.0991 - accuracy: 0.9656 - val_loss: 0.7899 - val_accuracy: 0.7715\n",
            "Epoch 7/50\n",
            "782/782 [==============================] - 21s 27ms/step - loss: 0.0610 - accuracy: 0.9792 - val_loss: 0.9897 - val_accuracy: 0.7760\n",
            "Epoch 8/50\n",
            "782/782 [==============================] - 21s 27ms/step - loss: 0.0411 - accuracy: 0.9864 - val_loss: 1.1686 - val_accuracy: 0.7797\n",
            "Epoch 9/50\n",
            "782/782 [==============================] - 22s 28ms/step - loss: 0.0297 - accuracy: 0.9902 - val_loss: 1.1623 - val_accuracy: 0.7550\n",
            "Epoch 10/50\n",
            "782/782 [==============================] - 21s 27ms/step - loss: 0.0255 - accuracy: 0.9913 - val_loss: 1.3194 - val_accuracy: 0.7736\n",
            "Epoch 11/50\n",
            "782/782 [==============================] - 21s 27ms/step - loss: 0.0213 - accuracy: 0.9924 - val_loss: 1.3423 - val_accuracy: 0.7599\n",
            "Epoch 12/50\n",
            "782/782 [==============================] - 22s 28ms/step - loss: 0.0165 - accuracy: 0.9945 - val_loss: 1.4314 - val_accuracy: 0.7775\n",
            "Epoch 13/50\n",
            "782/782 [==============================] - 21s 27ms/step - loss: 0.0161 - accuracy: 0.9948 - val_loss: 1.4054 - val_accuracy: 0.7638\n",
            "Epoch 14/50\n",
            "782/782 [==============================] - 21s 27ms/step - loss: 0.0143 - accuracy: 0.9955 - val_loss: 1.3902 - val_accuracy: 0.7634\n",
            "Epoch 15/50\n",
            "782/782 [==============================] - 22s 28ms/step - loss: 0.0127 - accuracy: 0.9955 - val_loss: 1.3923 - val_accuracy: 0.7666\n",
            "Epoch 16/50\n",
            "782/782 [==============================] - 21s 27ms/step - loss: 0.0109 - accuracy: 0.9965 - val_loss: 1.5266 - val_accuracy: 0.7678\n",
            "Epoch 17/50\n",
            "782/782 [==============================] - 21s 27ms/step - loss: 0.0113 - accuracy: 0.9961 - val_loss: 1.7667 - val_accuracy: 0.7722\n",
            "Epoch 18/50\n",
            "782/782 [==============================] - 21s 27ms/step - loss: 0.0118 - accuracy: 0.9957 - val_loss: 1.6073 - val_accuracy: 0.7632\n",
            "Epoch 19/50\n",
            "782/782 [==============================] - 21s 27ms/step - loss: 0.0056 - accuracy: 0.9982 - val_loss: 1.9233 - val_accuracy: 0.7576\n",
            "Epoch 20/50\n",
            "782/782 [==============================] - 21s 27ms/step - loss: 0.0088 - accuracy: 0.9971 - val_loss: 1.8195 - val_accuracy: 0.7694\n",
            "Epoch 21/50\n",
            "782/782 [==============================] - 21s 27ms/step - loss: 0.0066 - accuracy: 0.9975 - val_loss: 1.9444 - val_accuracy: 0.7522\n",
            "Epoch 22/50\n",
            "782/782 [==============================] - 21s 27ms/step - loss: 0.0099 - accuracy: 0.9964 - val_loss: 1.8726 - val_accuracy: 0.7710\n",
            "Epoch 23/50\n",
            "782/782 [==============================] - 21s 27ms/step - loss: 0.0056 - accuracy: 0.9983 - val_loss: 1.8241 - val_accuracy: 0.7654\n",
            "Epoch 24/50\n",
            "782/782 [==============================] - 21s 27ms/step - loss: 0.0025 - accuracy: 0.9993 - val_loss: 2.2692 - val_accuracy: 0.7663\n",
            "Epoch 25/50\n",
            "782/782 [==============================] - 22s 28ms/step - loss: 0.0064 - accuracy: 0.9980 - val_loss: 1.9601 - val_accuracy: 0.7652\n",
            "Epoch 26/50\n",
            "782/782 [==============================] - 22s 28ms/step - loss: 0.0086 - accuracy: 0.9971 - val_loss: 2.0321 - val_accuracy: 0.7523\n",
            "Epoch 27/50\n",
            "782/782 [==============================] - 22s 28ms/step - loss: 0.0076 - accuracy: 0.9976 - val_loss: 1.9629 - val_accuracy: 0.7576\n",
            "Epoch 28/50\n",
            "782/782 [==============================] - 21s 27ms/step - loss: 0.0047 - accuracy: 0.9986 - val_loss: 2.0641 - val_accuracy: 0.7618\n",
            "Epoch 29/50\n",
            "782/782 [==============================] - 21s 27ms/step - loss: 0.0047 - accuracy: 0.9980 - val_loss: 1.9478 - val_accuracy: 0.7580\n",
            "Epoch 30/50\n",
            "782/782 [==============================] - 21s 27ms/step - loss: 0.0050 - accuracy: 0.9983 - val_loss: 2.0118 - val_accuracy: 0.7526\n",
            "Epoch 31/50\n",
            "782/782 [==============================] - 21s 27ms/step - loss: 0.0032 - accuracy: 0.9989 - val_loss: 2.0817 - val_accuracy: 0.7582\n",
            "Epoch 32/50\n",
            "782/782 [==============================] - 21s 27ms/step - loss: 1.8605e-04 - accuracy: 1.0000 - val_loss: 2.4621 - val_accuracy: 0.7632\n",
            "Epoch 33/50\n",
            "782/782 [==============================] - 21s 26ms/step - loss: 1.6715e-05 - accuracy: 1.0000 - val_loss: 2.5822 - val_accuracy: 0.7638\n",
            "Epoch 34/50\n",
            "782/782 [==============================] - 21s 27ms/step - loss: 8.1413e-06 - accuracy: 1.0000 - val_loss: 2.6765 - val_accuracy: 0.7636\n",
            "Epoch 35/50\n",
            "782/782 [==============================] - 21s 27ms/step - loss: 5.1388e-06 - accuracy: 1.0000 - val_loss: 2.7647 - val_accuracy: 0.7639\n",
            "Epoch 36/50\n",
            "782/782 [==============================] - 21s 26ms/step - loss: 3.3115e-06 - accuracy: 1.0000 - val_loss: 2.8535 - val_accuracy: 0.7642\n",
            "Epoch 37/50\n",
            "782/782 [==============================] - 21s 26ms/step - loss: 2.1656e-06 - accuracy: 1.0000 - val_loss: 2.9430 - val_accuracy: 0.7644\n",
            "Epoch 38/50\n",
            "782/782 [==============================] - 21s 26ms/step - loss: 1.4183e-06 - accuracy: 1.0000 - val_loss: 3.0320 - val_accuracy: 0.7646\n",
            "Epoch 39/50\n",
            "782/782 [==============================] - 20s 26ms/step - loss: 9.3599e-07 - accuracy: 1.0000 - val_loss: 3.1224 - val_accuracy: 0.7645\n",
            "Epoch 40/50\n",
            "782/782 [==============================] - 20s 26ms/step - loss: 6.1284e-07 - accuracy: 1.0000 - val_loss: 3.2134 - val_accuracy: 0.7642\n",
            "Epoch 41/50\n",
            "782/782 [==============================] - 21s 27ms/step - loss: 4.0137e-07 - accuracy: 1.0000 - val_loss: 3.3070 - val_accuracy: 0.7642\n",
            "Epoch 42/50\n",
            "782/782 [==============================] - 21s 26ms/step - loss: 2.6358e-07 - accuracy: 1.0000 - val_loss: 3.4004 - val_accuracy: 0.7642\n",
            "Epoch 43/50\n",
            "782/782 [==============================] - 20s 26ms/step - loss: 1.7227e-07 - accuracy: 1.0000 - val_loss: 3.4943 - val_accuracy: 0.7646\n",
            "Epoch 44/50\n",
            "782/782 [==============================] - 20s 26ms/step - loss: 1.1300e-07 - accuracy: 1.0000 - val_loss: 3.5888 - val_accuracy: 0.7648\n",
            "Epoch 45/50\n",
            "782/782 [==============================] - 21s 27ms/step - loss: 7.4228e-08 - accuracy: 1.0000 - val_loss: 3.6825 - val_accuracy: 0.7650\n",
            "Epoch 46/50\n",
            "782/782 [==============================] - 21s 27ms/step - loss: 4.9060e-08 - accuracy: 1.0000 - val_loss: 3.7778 - val_accuracy: 0.7648\n",
            "Epoch 47/50\n",
            "782/782 [==============================] - 21s 26ms/step - loss: 3.2683e-08 - accuracy: 1.0000 - val_loss: 3.8691 - val_accuracy: 0.7648\n",
            "Epoch 48/50\n",
            "782/782 [==============================] - 21s 27ms/step - loss: 2.1855e-08 - accuracy: 1.0000 - val_loss: 3.9617 - val_accuracy: 0.7650\n",
            "Epoch 49/50\n",
            "782/782 [==============================] - 21s 27ms/step - loss: 1.4807e-08 - accuracy: 1.0000 - val_loss: 4.0493 - val_accuracy: 0.7647\n",
            "Epoch 50/50\n",
            "782/782 [==============================] - 21s 27ms/step - loss: 1.0168e-08 - accuracy: 1.0000 - val_loss: 4.1352 - val_accuracy: 0.7650\n"
          ],
          "name": "stdout"
        }
      ]
    },
    {
      "cell_type": "code",
      "metadata": {
        "id": "Mp1Z7P9pYRSK"
      },
      "source": [
        "import matplotlib.pyplot as plt\n",
        "\n",
        "\n",
        "def plot_graphs(history, string):\n",
        "  plt.plot(history.history[string])\n",
        "  plt.plot(history.history['val_'+string])\n",
        "  plt.xlabel(\"Epochs\")\n",
        "  plt.ylabel(string)\n",
        "  plt.legend([string, 'val_'+string])\n",
        "  plt.show()"
      ],
      "execution_count": null,
      "outputs": []
    },
    {
      "cell_type": "code",
      "metadata": {
        "id": "R_sX6ilIM515",
        "colab": {
          "base_uri": "https://localhost:8080/",
          "height": 279
        },
        "outputId": "a0b112d8-3c53-4931-8518-74cdd66d5b0c"
      },
      "source": [
        "plot_graphs(history, 'accuracy')"
      ],
      "execution_count": null,
      "outputs": [
        {
          "output_type": "display_data",
          "data": {
            "image/png": "[encoded data removed]",
            "text/plain": [
              "<Figure size 432x288 with 1 Axes>"
            ]
          },
          "metadata": {
            "tags": [],
            "needs_background": "light"
          }
        }
      ]
    },
    {
      "cell_type": "code",
      "metadata": {
        "id": "RFEXtKtqNARB",
        "colab": {
          "base_uri": "https://localhost:8080/",
          "height": 279
        },
        "outputId": "769f9b9e-f82e-4546-8489-fb9d97a53279"
      },
      "source": [
        "plot_graphs(history, 'loss')"
      ],
      "execution_count": null,
      "outputs": [
        {
          "output_type": "display_data",
          "data": {
            "image/png": "[encoded data removed]",
            "text/plain": [
              "<Figure size 432x288 with 1 Axes>"
            ]
          },
          "metadata": {
            "tags": [],
            "needs_background": "light"
          }
        }
      ]
    },
    {
      "cell_type": "code",
      "metadata": {
        "id": "ckYngmRT8As0"
      },
      "source": [
        ""
      ],
      "execution_count": null,
      "outputs": []
    }
  ]
}